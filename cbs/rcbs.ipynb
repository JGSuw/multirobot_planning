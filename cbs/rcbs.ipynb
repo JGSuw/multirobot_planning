{
 "cells": [
  {
   "cell_type": "code",
   "execution_count": 1,
   "metadata": {},
   "outputs": [],
   "source": [
    "from mapf import *\n",
    "from rcbs import *\n",
    "from matplotlib import pyplot as plt\n",
    "import numpy as np"
   ]
  },
  {
   "cell_type": "code",
   "execution_count": 2,
   "metadata": {},
   "outputs": [
    {
     "name": "stdout",
     "output_type": "stream",
     "text": [
      "(16, 16)\n",
      "16.0\n"
     ]
    },
    {
     "data": {
      "text/plain": [
       "<matplotlib.image.AxesImage at 0x14ce8bf5dd0>"
      ]
     },
     "execution_count": 2,
     "metadata": {},
     "output_type": "execute_result"
    },
    {
     "data": {
      "image/png": "[encoded data removed]",
      "text/plain": [
       "<Figure size 640x480 with 1 Axes>"
      ]
     },
     "metadata": {},
     "output_type": "display_data"
    }
   ],
   "source": [
    "nrows = 2\n",
    "ncols = 2\n",
    "env = ColumnLatticeEnvironment(nrows, ncols, 0, 0, 4, 4, 1, 1)\n",
    "size = env.gridworld.size\n",
    "print(size)\n",
    "print(np.sqrt(size[0]*size[1]-len(env.gridworld.obstacles)))\n",
    "fig, ax = plt.subplots()\n",
    "draw_environment(ax,env,{},{})"
   ]
  },
  {
   "cell_type": "code",
   "execution_count": 3,
   "metadata": {},
   "outputs": [
    {
     "name": "stdout",
     "output_type": "stream",
     "text": [
      "30\n"
     ]
    }
   ],
   "source": [
    "# N_agents = int(2*np.sqrt(size[0]*size[1]-len(env.gridworld.obstacles)))\n",
    "N_agents = 30\n",
    "print(N_agents)\n",
    "x, final_goals, region_paths = random_problem(N_agents, env, path_cutoff = (nrows+ncols))"
   ]
  },
  {
   "cell_type": "code",
   "execution_count": 4,
   "metadata": {},
   "outputs": [
    {
     "name": "stdout",
     "output_type": "stream",
     "text": [
      "Branching at region (1, 1) with constraint t = 3, p1 = (11, 9), p2 = (11, 8) applied to agent 24\n",
      "Branching at region (1, 0) with constraint t = 3, p1 = (11, 7), p2 = (11, 8) applied to agent 22\n",
      "Branching at region (1, 1) with constraint t = 3, p1 = (11, 9), p2 = (11, 8) applied to agent 24\n",
      "Branching at region (1, 0) with constraint t = 3, p1 = (11, 7), p2 = (11, 8) applied to agent 22\n",
      "# of completed trips 0\n",
      "advancing agents...\n",
      "OH SHIT\n"
     ]
    },
    {
     "ename": "TypeError",
     "evalue": "'NoneType' object is not subscriptable",
     "output_type": "error",
     "traceback": [
      "\u001b[1;31m---------------------------------------------------------------------------\u001b[0m",
      "\u001b[1;31mTypeError\u001b[0m                                 Traceback (most recent call last)",
      "Cell \u001b[1;32mIn[4], line 3\u001b[0m\n\u001b[0;32m      1\u001b[0m omega \u001b[38;5;241m=\u001b[39m \u001b[38;5;241m1\u001b[39m\n\u001b[0;32m      2\u001b[0m root \u001b[38;5;241m=\u001b[39m init_rcbs(env, x, final_goals, region_paths)\n\u001b[1;32m----> 3\u001b[0m M \u001b[38;5;241m=\u001b[39m \u001b[43mregional_cbs\u001b[49m\u001b[43m(\u001b[49m\u001b[43mroot\u001b[49m\u001b[43m,\u001b[49m\u001b[43m \u001b[49m\u001b[43menv\u001b[49m\u001b[43m,\u001b[49m\u001b[43m \u001b[49m\u001b[43momega\u001b[49m\u001b[43m,\u001b[49m\u001b[43m \u001b[49m\u001b[43mverbose\u001b[49m\u001b[43m \u001b[49m\u001b[38;5;241;43m=\u001b[39;49m\u001b[43m \u001b[49m\u001b[38;5;28;43;01mTrue\u001b[39;49;00m\u001b[43m,\u001b[49m\u001b[43m \u001b[49m\u001b[43mmaxtime\u001b[49m\u001b[43m \u001b[49m\u001b[38;5;241;43m=\u001b[39;49m\u001b[43m \u001b[49m\u001b[38;5;241;43m30.\u001b[39;49m\u001b[43m)\u001b[49m\n\u001b[0;32m      4\u001b[0m solution \u001b[38;5;241m=\u001b[39m M\u001b[38;5;241m.\u001b[39mmake_solution()\n\u001b[0;32m      6\u001b[0m \u001b[38;5;66;03m# goals = {id: LocationGoal(final_goals[id]) for id in x}\u001b[39;00m\n\u001b[0;32m      7\u001b[0m \u001b[38;5;66;03m# root = CBSNode(x, goals)\u001b[39;00m\n\u001b[0;32m      8\u001b[0m \u001b[38;5;66;03m# action_gen = GridWorldActionGenerator(env.gridworld)\u001b[39;00m\n\u001b[0;32m      9\u001b[0m \u001b[38;5;66;03m# M, lb = conflict_based_search(root, action_gen.actions, 1.1, verbose=True, maxtime=120)\u001b[39;00m\n\u001b[0;32m     10\u001b[0m \u001b[38;5;66;03m# solution = MAPFSolution(M.paths)\u001b[39;00m\n",
      "File \u001b[1;32mc:\\Users\\Joseph Sullivan\\Documents\\cbs\\multirobot_planning\\cbs\\rcbs.py:769\u001b[0m, in \u001b[0;36mregional_cbs\u001b[1;34m(root, env, omega, maxtime, cbs_maxtime, verbose)\u001b[0m\n\u001b[0;32m    766\u001b[0m     update_region(new_node, env, r, omega, cbs_maxtime)\n\u001b[0;32m    768\u001b[0m new_node\u001b[38;5;241m.\u001b[39mcompute_cost()\n\u001b[1;32m--> 769\u001b[0m \u001b[43mnew_node\u001b[49m\u001b[38;5;241;43m.\u001b[39;49m\u001b[43mdetect_conflicts\u001b[49m\u001b[43m(\u001b[49m\u001b[43m)\u001b[49m\n\u001b[0;32m    770\u001b[0m \u001b[38;5;28;01mif\u001b[39;00m new_node\u001b[38;5;241m.\u001b[39mlower_bound \u001b[38;5;241m<\u001b[39m np\u001b[38;5;241m.\u001b[39minf:\n\u001b[0;32m    771\u001b[0m     heappush(O,[new_node\u001b[38;5;241m.\u001b[39mgoal_cost, new_node\u001b[38;5;241m.\u001b[39mlower_bound, new_node])\n",
      "File \u001b[1;32mc:\\Users\\Joseph Sullivan\\Documents\\cbs\\multirobot_planning\\cbs\\rcbs.py:567\u001b[0m, in \u001b[0;36mRCBSNode.detect_conflicts\u001b[1;34m(self)\u001b[0m\n\u001b[0;32m    565\u001b[0m \u001b[38;5;28;01mif\u001b[39;00m v \u001b[38;5;129;01min\u001b[39;00m vertexes:\n\u001b[0;32m    566\u001b[0m     other \u001b[38;5;241m=\u001b[39m vertexes[v]\n\u001b[1;32m--> 567\u001b[0m     \u001b[38;5;28;01mif\u001b[39;00m \u001b[43mother\u001b[49m\u001b[43m[\u001b[49m\u001b[38;5;241;43m1\u001b[39;49m\u001b[43m]\u001b[49m \u001b[38;5;241m!=\u001b[39m \u001b[38;5;28mid\u001b[39m:\n\u001b[0;32m    568\u001b[0m         conflicts\u001b[38;5;241m.\u001b[39mappend([(r,\u001b[38;5;28mid\u001b[39m,e), other])\n\u001b[0;32m    569\u001b[0m         conflict_count \u001b[38;5;241m+\u001b[39m\u001b[38;5;241m=\u001b[39m \u001b[38;5;241m1\u001b[39m\n",
      "\u001b[1;31mTypeError\u001b[0m: 'NoneType' object is not subscriptable"
     ]
    }
   ],
   "source": [
    "omega = 1\n",
    "root = init_rcbs(env, x, final_goals, region_paths)\n",
    "M = regional_cbs(root, env, omega, verbose = True, maxtime = 30.)\n",
    "solution = M.make_solution()\n",
    "\n",
    "# goals = {id: LocationGoal(final_goals[id]) for id in x}\n",
    "# root = CBSNode(x, goals)\n",
    "# action_gen = GridWorldActionGenerator(env.gridworld)\n",
    "# M, lb = conflict_based_search(root, action_gen.actions, 1.1, verbose=True, maxtime=120)\n",
    "# solution = MAPFSolution(M.paths)"
   ]
  },
  {
   "cell_type": "code",
   "execution_count": 66,
   "metadata": {},
   "outputs": [
    {
     "name": "stdout",
     "output_type": "stream",
     "text": [
      "\n",
      "Verifying RCBS solution...\n",
      "Vertex collision between agents 3 and 10\n",
      "Time: 7\n",
      "Position: (12, 7)\n",
      "1\n",
      "[{'type': 'vertex', 'agents': (3, 10), 'pos': (12, 7), 'time': 7}]\n",
      "{0: '(t = 0, p = (10, 14)), (t = 1, p = (9, 14)), (t = 2, p = (8, 14)), (t = 3, p = (8, 15)), (t = 4, p = (7, 15)), (t = 5, p = (6, 15)), (t = 6, p = (5, 15))'}\n",
      "{1: '(t = 0, p = (11, 6)), (t = 1, p = (11, 7)), (t = 2, p = (11, 8)), (t = 3, p = (10, 8)), (t = 4, p = (10, 9)), (t = 5, p = (10, 10)), (t = 6, p = (10, 11)), (t = 7, p = (10, 12))'}\n",
      "{2: '(t = 0, p = (4, 14)), (t = 1, p = (5, 14)), (t = 2, p = (6, 14)), (t = 3, p = (7, 14)), (t = 4, p = (8, 14)), (t = 5, p = (8, 13)), (t = 6, p = (8, 12)), (t = 7, p = (8, 11)), (t = 8, p = (9, 11)), (t = 9, p = (9, 10)), (t = 10, p = (10, 10)), (t = 11, p = (11, 10)), (t = 12, p = (12, 10)), (t = 13, p = (13, 10)), (t = 14, p = (13, 9)), (t = 15, p = (14, 9)), (t = 16, p = (15, 9))'}\n",
      "{3: '(t = 0, p = (12, 14)), (t = 1, p = (12, 13)), (t = 2, p = (12, 12)), (t = 3, p = (12, 11)), (t = 4, p = (12, 10)), (t = 5, p = (12, 9)), (t = 6, p = (12, 8)), (t = 7, p = (12, 7)), (t = 8, p = (11, 7)), (t = 9, p = (10, 7)), (t = 10, p = (9, 7)), (t = 11, p = (8, 7)), (t = 12, p = (7, 7)), (t = 13, p = (7, 6)), (t = 14, p = (6, 6)), (t = 15, p = (5, 6)), (t = 16, p = (4, 6)), (t = 17, p = (4, 5)), (t = 18, p = (3, 5))'}\n",
      "{4: '(t = 0, p = (2, 10)), (t = 1, p = (2, 11)), (t = 2, p = (1, 11)), (t = 3, p = (0, 11))'}\n",
      "{5: '(t = 0, p = (13, 11)), (t = 1, p = (12, 11)), (t = 2, p = (11, 11)), (t = 3, p = (10, 11))'}\n",
      "{6: '(t = 0, p = (14, 3)), (t = 1, p = (13, 3)), (t = 2, p = (12, 3)), (t = 3, p = (12, 4))'}\n",
      "{7: '(t = 0, p = (2, 9)), (t = 1, p = (2, 8)), (t = 2, p = (2, 7)), (t = 3, p = (3, 7)), (t = 4, p = (4, 7)), (t = 5, p = (5, 7)), (t = 6, p = (6, 7)), (t = 7, p = (7, 7)), (t = 8, p = (8, 7)), (t = 9, p = (8, 6)), (t = 10, p = (8, 5)), (t = 11, p = (9, 5)), (t = 12, p = (9, 4)), (t = 13, p = (9, 3))'}\n",
      "{8: '(t = 0, p = (10, 12)), (t = 1, p = (10, 13)), (t = 2, p = (10, 14)), (t = 3, p = (10, 15))'}\n",
      "{9: '(t = 0, p = (4, 13)), (t = 1, p = (4, 12)), (t = 2, p = (4, 11)), (t = 3, p = (4, 10)), (t = 4, p = (4, 9)), (t = 5, p = (4, 8)), (t = 6, p = (4, 7)), (t = 7, p = (4, 6)), (t = 8, p = (4, 5)), (t = 9, p = (4, 4)), (t = 10, p = (3, 4)), (t = 11, p = (3, 3)), (t = 12, p = (3, 2))'}\n",
      "{10: '(t = 0, p = (13, 13)), (t = 1, p = (13, 12)), (t = 2, p = (13, 11)), (t = 3, p = (13, 10)), (t = 4, p = (13, 9)), (t = 5, p = (13, 8)), (t = 6, p = (13, 7)), (t = 7, p = (12, 7)), (t = 8, p = (12, 6))'}\n",
      "{11: '(t = 0, p = (5, 1)), (t = 1, p = (4, 1)), (t = 2, p = (3, 1)), (t = 3, p = (3, 0))'}\n",
      "{12: '(t = 0, p = (6, 12)), (t = 1, p = (7, 12)), (t = 2, p = (8, 12)), (t = 3, p = (9, 12)), (t = 4, p = (10, 12)), (t = 5, p = (11, 12)), (t = 6, p = (12, 12)), (t = 7, p = (13, 12)), (t = 8, p = (14, 12)), (t = 9, p = (14, 13)), (t = 10, p = (14, 14))'}\n",
      "{13: '(t = 0, p = (2, 15)), (t = 1, p = (2, 14)), (t = 2, p = (2, 13)), (t = 3, p = (2, 12)), (t = 4, p = (2, 11)), (t = 5, p = (2, 10)), (t = 6, p = (2, 9)), (t = 7, p = (2, 8)), (t = 8, p = (2, 7)), (t = 9, p = (3, 7)), (t = 10, p = (4, 7)), (t = 11, p = (5, 7)), (t = 12, p = (6, 7)), (t = 13, p = (7, 7)), (t = 14, p = (8, 7)), (t = 15, p = (8, 6)), (t = 16, p = (8, 5)), (t = 17, p = (9, 5)), (t = 18, p = (10, 5)), (t = 19, p = (10, 4)), (t = 20, p = (11, 4)), (t = 21, p = (11, 3)), (t = 22, p = (11, 2)), (t = 23, p = (11, 1)), (t = 24, p = (11, 0)), (t = 25, p = (12, 0)), (t = 26, p = (13, 0))'}\n",
      "{14: '(t = 0, p = (6, 2)), (t = 1, p = (6, 3)), (t = 2, p = (6, 4)), (t = 3, p = (6, 5)), (t = 4, p = (6, 6)), (t = 5, p = (6, 7)), (t = 6, p = (6, 8)), (t = 7, p = (7, 8)), (t = 8, p = (8, 8)), (t = 9, p = (8, 9)), (t = 10, p = (8, 10)), (t = 11, p = (8, 11)), (t = 12, p = (9, 11))'}\n",
      "{15: '(t = 0, p = (15, 12)), (t = 1, p = (14, 12)), (t = 2, p = (14, 13)), (t = 3, p = (13, 13)), (t = 4, p = (13, 14)), (t = 5, p = (13, 15)), (t = 6, p = (12, 15))'}\n",
      "{16: '(t = 0, p = (14, 15)), (t = 1, p = (13, 15)), (t = 2, p = (12, 15)), (t = 3, p = (11, 15)), (t = 4, p = (10, 15)), (t = 5, p = (9, 15)), (t = 6, p = (8, 15)), (t = 7, p = (7, 15)), (t = 8, p = (7, 14)), (t = 9, p = (7, 13)), (t = 10, p = (6, 13)), (t = 11, p = (5, 13))'}\n",
      "{17: '(t = 0, p = (12, 2)), (t = 1, p = (11, 2)), (t = 2, p = (10, 2)), (t = 3, p = (9, 2)), (t = 4, p = (8, 2)), (t = 5, p = (7, 2)), (t = 6, p = (7, 3)), (t = 7, p = (7, 4)), (t = 8, p = (7, 5)), (t = 9, p = (7, 6)), (t = 10, p = (7, 7)), (t = 11, p = (7, 8)), (t = 12, p = (6, 8)), (t = 13, p = (6, 9)), (t = 14, p = (5, 9)), (t = 15, p = (5, 10)), (t = 16, p = (4, 10)), (t = 17, p = (3, 10)), (t = 18, p = (3, 11)), (t = 19, p = (2, 11)), (t = 20, p = (1, 11))'}\n",
      "{18: '(t = 0, p = (15, 3)), (t = 1, p = (14, 3)), (t = 2, p = (13, 3)), (t = 3, p = (12, 3)), (t = 4, p = (11, 3)), (t = 5, p = (10, 3)), (t = 6, p = (9, 3)), (t = 7, p = (8, 3)), (t = 8, p = (7, 3)), (t = 9, p = (7, 2)), (t = 10, p = (7, 1)), (t = 11, p = (6, 1)), (t = 12, p = (5, 1)), (t = 13, p = (4, 1)), (t = 14, p = (3, 1))'}\n",
      "{19: '(t = 0, p = (12, 3)), (t = 1, p = (11, 3)), (t = 2, p = (10, 3))'}\n",
      "{20: '(t = 0, p = (11, 2)), (t = 1, p = (10, 2)), (t = 2, p = (9, 2)), (t = 3, p = (9, 1))'}\n",
      "{21: '(t = 0, p = (15, 1)), (t = 1, p = (15, 2)), (t = 2, p = (15, 3)), (t = 3, p = (15, 4)), (t = 4, p = (15, 5)), (t = 5, p = (15, 6)), (t = 6, p = (15, 7)), (t = 7, p = (15, 8)), (t = 8, p = (14, 8)), (t = 9, p = (13, 8)), (t = 10, p = (12, 8)), (t = 11, p = (11, 8)), (t = 12, p = (10, 8)), (t = 13, p = (9, 8)), (t = 14, p = (8, 8)), (t = 15, p = (7, 8)), (t = 16, p = (6, 8)), (t = 17, p = (6, 9)), (t = 18, p = (6, 10))'}\n",
      "{22: '(t = 0, p = (13, 5)), (t = 1, p = (13, 4)), (t = 2, p = (13, 4)), (t = 3, p = (13, 3)), (t = 4, p = (13, 2))'}\n",
      "{23: '(t = 0, p = (1, 14)), (t = 1, p = (1, 14)), (t = 2, p = (2, 14)), (t = 3, p = (3, 14)), (t = 4, p = (4, 14)), (t = 5, p = (5, 14)), (t = 6, p = (6, 14)), (t = 7, p = (7, 14)), (t = 8, p = (8, 14)), (t = 9, p = (9, 14)), (t = 10, p = (10, 14)), (t = 11, p = (11, 14)), (t = 12, p = (11, 13)), (t = 13, p = (11, 12)), (t = 14, p = (12, 12)), (t = 15, p = (13, 12)), (t = 16, p = (13, 11)), (t = 17, p = (14, 11))'}\n",
      "{24: '(t = 0, p = (0, 0)), (t = 1, p = (1, 0)), (t = 2, p = (2, 0)), (t = 3, p = (2, 1)), (t = 4, p = (3, 1)), (t = 5, p = (4, 1)), (t = 6, p = (4, 2))'}\n",
      "{25: '(t = 0, p = (6, 3)), (t = 1, p = (5, 3)), (t = 2, p = (5, 2)), (t = 3, p = (5, 1)), (t = 4, p = (5, 0))'}\n",
      "{26: '(t = 0, p = (13, 2)), (t = 1, p = (12, 2)), (t = 2, p = (11, 2)), (t = 3, p = (10, 2)), (t = 4, p = (9, 2)), (t = 5, p = (8, 2)), (t = 6, p = (7, 2)), (t = 7, p = (7, 3)), (t = 8, p = (6, 3)), (t = 9, p = (6, 4)), (t = 10, p = (6, 5)), (t = 11, p = (5, 5)), (t = 12, p = (5, 6))'}\n",
      "{27: '(t = 0, p = (9, 2)), (t = 1, p = (8, 2)), (t = 2, p = (7, 2)), (t = 3, p = (7, 3)), (t = 4, p = (7, 4)), (t = 5, p = (7, 4)), (t = 6, p = (7, 5)), (t = 7, p = (7, 6)), (t = 8, p = (7, 7)), (t = 9, p = (7, 8)), (t = 10, p = (7, 9)), (t = 11, p = (6, 9)), (t = 12, p = (6, 10)), (t = 13, p = (6, 11)), (t = 14, p = (5, 11))'}\n",
      "{28: '(t = 0, p = (2, 5)), (t = 1, p = (3, 5)), (t = 2, p = (4, 5)), (t = 3, p = (5, 5)), (t = 4, p = (6, 5)), (t = 5, p = (7, 5)), (t = 6, p = (8, 5)), (t = 7, p = (9, 5)), (t = 8, p = (10, 5)), (t = 9, p = (11, 5)), (t = 10, p = (12, 5))'}\n",
      "{29: '(t = 0, p = (5, 13)), (t = 1, p = (4, 13)), (t = 2, p = (4, 12))'}\n"
     ]
    }
   ],
   "source": [
    "\n",
    "def verify_solution(solution: MAPFSolution) -> bool:\n",
    "\n",
    "    if solution is None:\n",
    "        return False\n",
    "    \n",
    "    paths = solution.paths\n",
    "    agents = list(paths.keys())\n",
    "    violations = [] \n",
    "    for i in range(len(agents)):\n",
    "        for j in range(i + 1, len(agents)):\n",
    "            path1 = paths[agents[i]].vertexes\n",
    "            path2 = paths[agents[j]].vertexes\n",
    "            \n",
    "           \n",
    "            for t in range(min(len(path1), len(path2))):\n",
    "             \n",
    "                if path1[t].pos == path2[t].pos:\n",
    "                    if t < min(len(path1)-1,len(path2)-1):\n",
    "                        print(f\"Vertex collision between agents {agents[i]} and {agents[j]}\")\n",
    "                        print(f\"Time: {t}\")\n",
    "                        print(f\"Position: {path1[t].pos}\")\n",
    "                        violations.append({'type':'vertex','agents':(agents[i],agents[j]),'pos': path1[t].pos, 'time': t})\n",
    "                \n",
    "                if t < min(len(path1)-1, len(path2)-1):\n",
    "                    if (path1[t].pos == path2[t+1].pos and \n",
    "                        path1[t+1].pos == path2[t].pos):\n",
    "                        print(f\"Edge collision between agents {agents[i]} and {agents[j]}\")\n",
    "                        print(f\"Time: {t}-{t+1}\")\n",
    "                        violations.append({'type':'edge','agents':(agents[i],agents[j]),'edge': (path1[t].pos,path2[t].pos), 'time': t})\n",
    "    \n",
    "    return violations\n",
    "\n",
    "if solution:\n",
    "        print(\"\\nVerifying RCBS solution...\")\n",
    "        violations = verify_solution(solution)\n",
    "        if len(violations) > 0:\n",
    "            print(len(violations))\n",
    "            print(violations)\n",
    "\n",
    "for id, path in solution.paths.items():\n",
    "    print({id:str(path)})\n",
    "# MAPFAnimation(env, solution).animate().save('foo.gif')"
   ]
  },
  {
   "cell_type": "code",
   "execution_count": 67,
   "metadata": {},
   "outputs": [
    {
     "name": "stdout",
     "output_type": "stream",
     "text": [
      "(t = 0, p = (12, 14)), (t = 1, p = (12, 13)), (t = 2, p = (12, 12)), (t = 3, p = (12, 11)), (t = 4, p = (12, 10)), (t = 5, p = (12, 9)), (t = 6, p = (12, 8)), (t = 7, p = (12, 7)), (t = 8, p = (11, 7)), (t = 9, p = (10, 7)), (t = 10, p = (9, 7)), (t = 11, p = (8, 7)), (t = 12, p = (7, 7)), (t = 13, p = (7, 6)), (t = 14, p = (6, 6)), (t = 15, p = (5, 6)), (t = 16, p = (4, 6)), (t = 17, p = (4, 5)), (t = 18, p = (3, 5))\n",
      "(t = 0, p = (13, 13)), (t = 1, p = (13, 12)), (t = 2, p = (13, 11)), (t = 3, p = (13, 10)), (t = 4, p = (13, 9)), (t = 5, p = (13, 8)), (t = 6, p = (13, 7)), (t = 7, p = (12, 7)), (t = 8, p = (12, 6))\n",
      "[(1, 1), (1, 0), (0, 0)]\n",
      "[(1, 1), (1, 0)]\n",
      "19\n",
      "9\n"
     ]
    }
   ],
   "source": [
    "agenti, agentj = 3,10\n",
    "t = 7\n",
    "print(solution.paths[agenti])\n",
    "print(solution.paths[agentj])\n",
    "print(region_paths[agenti])\n",
    "print(region_paths[agentj])\n",
    "print(len(solution.paths[agenti]))\n",
    "print(len(solution.paths[agentj]))"
   ]
  },
  {
   "cell_type": "code",
   "execution_count": null,
   "metadata": {},
   "outputs": [],
   "source": [
    "R = env.region_graph.nodes[(0,1)]\n",
    "R['env'].boundary\n",
    "R['env'].contains_node((0,4))"
   ]
  },
  {
   "cell_type": "code",
   "execution_count": null,
   "metadata": {},
   "outputs": [],
   "source": [
    "goals = {id: LocationGoal(final_goals[id]) for id in x}\n",
    "root = CBSNode(x, goals)\n",
    "action_gen = GridWorldActionGenerator(env.gridworld)\n",
    "N, lb = conflict_based_search(root, action_gen.actions, 1.1, verbose=True, maxtime=120)"
   ]
  },
  {
   "cell_type": "code",
   "execution_count": null,
   "metadata": {},
   "outputs": [],
   "source": [
    "print(M.cost)\n",
    "print(N.cost)\n",
    "print((M.cost-N.cost)/N.cost)"
   ]
  },
  {
   "cell_type": "code",
   "execution_count": null,
   "metadata": {},
   "outputs": [],
   "source": [
    "solution = M.make_solution()\n",
    "MAPFAnimation(env, solution).animate().save('foo.gif')"
   ]
  }
 ],
 "metadata": {
  "kernelspec": {
   "display_name": "cbs",
   "language": "python",
   "name": "python3"
  },
  "language_info": {
   "codemirror_mode": {
    "name": "ipython",
    "version": 3
   },
   "file_extension": ".py",
   "mimetype": "text/x-python",
   "name": "python",
   "nbconvert_exporter": "python",
   "pygments_lexer": "ipython3",
   "version": "3.11.9"
  }
 },
 "nbformat": 4,
 "nbformat_minor": 2
}
