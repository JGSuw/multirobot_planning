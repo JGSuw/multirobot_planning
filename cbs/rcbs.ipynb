{
 "cells": [
  {
   "cell_type": "code",
   "execution_count": 1,
   "metadata": {},
   "outputs": [],
   "source": [
    "from mapf import *\n",
    "from rcbs import *\n",
    "from matplotlib import pyplot as plt\n",
    "import numpy as np"
   ]
  },
  {
   "cell_type": "code",
   "execution_count": 2,
   "metadata": {},
   "outputs": [
    {
     "name": "stdout",
     "output_type": "stream",
     "text": [
      "CBS popped from F\n",
      "CBS solution found\n"
     ]
    }
   ],
   "source": [
    "env = GridWorld((10,10), [])\n",
    "x = {}\n",
    "goals = {}\n",
    "action_generator = GridWorldActionGenerator(env)\n",
    "a = action_generator.actions\n",
    "root = CBSNode(x, goals)\n",
    "node, lb = conflict_based_search(root, a, 1.05, verbose=True)"
   ]
  },
  {
   "cell_type": "code",
   "execution_count": 3,
   "metadata": {},
   "outputs": [
    {
     "name": "stdout",
     "output_type": "stream",
     "text": [
      "CBS popped from F\n",
      "Current conflict count 5\n",
      "Applying constraint t = 6, p = (6, 3) to 8\n",
      "Applying constraint t = 5, p1 = (7, 3), p2 = (6, 3) to 1\n",
      "CBS popped from F\n",
      "Current conflict count 4\n",
      "Applying constraint t = 5, p1 = (3, 4), p2 = (3, 5) to 9\n",
      "Applying constraint t = 5, p1 = (3, 5), p2 = (3, 4) to 2\n",
      "CBS popped from F\n",
      "Current conflict count 2\n",
      "Applying constraint t = 1, p = (3, 6) to 12\n",
      "Applying constraint t = 0, p1 = (2, 6), p2 = (3, 6) to 5\n",
      "CBS popped from F\n",
      "Current conflict count 1\n",
      "Applying constraint t = 1, p = (1, 6) to 13\n",
      "Applying constraint t = 0, p1 = (1, 7), p2 = (1, 6) to 11\n",
      "CBS popped from F\n",
      "Current conflict count 1\n",
      "Applying constraint t = 2, p = (1, 5) to 13\n",
      "Applying constraint t = 1, p1 = (1, 6), p2 = (1, 5) to 11\n",
      "CBS popped from F\n",
      "Current conflict count 2\n",
      "Applying constraint t = 3, p = (1, 4) to 13\n",
      "Applying constraint t = 2, p1 = (1, 5), p2 = (1, 4) to 11\n",
      "CBS popped from F\n",
      "Current conflict count 1\n",
      "Applying constraint t = 3, p = (2, 6) to 13\n",
      "Applying constraint t = 2, p1 = (2, 7), p2 = (2, 6) to 2\n",
      "CBS popped from F\n",
      "Current conflict count 1\n",
      "Applying constraint t = 4, p = (3, 6) to 13\n",
      "Applying constraint t = 3, p1 = (3, 7), p2 = (3, 6) to 2\n",
      "CBS popped from F\n",
      "Current conflict count 1\n",
      "Applying constraint t = 5, p = (3, 5) to 13\n",
      "Applying constraint t = 4, p1 = (3, 6), p2 = (3, 5) to 2\n",
      "CBS popped from F\n",
      "Current conflict count 1\n",
      "Applying constraint t = 6, p = (4, 5) to 13\n",
      "Applying constraint t = 5, p1 = (4, 6), p2 = (4, 5) to 2\n",
      "CBS popped from F\n",
      "Current conflict count 1\n",
      "Applying constraint t = 7, p = (4, 4) to 13\n",
      "Applying constraint t = 6, p1 = (4, 5), p2 = (4, 4) to 2\n",
      "CBS popped from F\n",
      "CBS solution found\n"
     ]
    }
   ],
   "source": [
    "N_agents = 20\n",
    "start_pos = []\n",
    "goal_pos = []\n",
    "x = {}\n",
    "goals = {}\n",
    "for id in range(N_agents):\n",
    "    choices = [p for p in env.G.nodes if p not in start_pos]\n",
    "    p = choices[np.random.choice(len(choices))]\n",
    "    start_pos.append(p)\n",
    "    x[id] = PathVertex(p, 0)\n",
    "    choices = [p for p in env.G.nodes if p not in goal_pos]\n",
    "    p = choices[np.random.choice(len(choices))]\n",
    "    goal_pos.append(p)\n",
    "    goals[id] = LocationGoal(p)\n",
    "\n",
    "root = CBSNode(x, goals)\n",
    "node, lb = conflict_based_search(root, a, 1.05, verbose=True)"
   ]
  },
  {
   "cell_type": "code",
   "execution_count": 4,
   "metadata": {},
   "outputs": [
    {
     "name": "stdout",
     "output_type": "stream",
     "text": [
      "144\n",
      "142\n",
      "156.20000000000002\n",
      "144\n"
     ]
    }
   ],
   "source": [
    "print(node.cost)\n",
    "print(lb)\n",
    "print(1.1*lb)\n",
    "print(node.lower_bound)"
   ]
  },
  {
   "cell_type": "code",
   "execution_count": 5,
   "metadata": {},
   "outputs": [
    {
     "data": {
      "text/plain": [
       "<matplotlib.image.AxesImage at 0x1880097e010>"
      ]
     },
     "execution_count": 5,
     "metadata": {},
     "output_type": "execute_result"
    },
    {
     "data": {
      "image/png": "[encoded data removed]",
      "text/plain": [
       "<Figure size 640x480 with 1 Axes>"
      ]
     },
     "metadata": {},
     "output_type": "display_data"
    }
   ],
   "source": [
    "env = ColumnLatticeEnvironment(1,2,4,4,2,2,2,2)\n",
    "fig, ax = plt.subplots()\n",
    "draw_environment(ax,env,{},{})"
   ]
  },
  {
   "cell_type": "code",
   "execution_count": 6,
   "metadata": {},
   "outputs": [
    {
     "name": "stdout",
     "output_type": "stream",
     "text": [
      "Branching at region (0, 1) with constraint t = 5, p1 = (7, 17), p2 = (7, 16) applied to agent 1\n",
      "Branching at region (0, 0) with constraint t = 5, p1 = (7, 15), p2 = (7, 16) applied to agent 0\n",
      "Branching at region (0, 1) with constraint t = 5, p1 = (7, 17), p2 = (7, 16) applied to agent 1\n",
      "Branching at region (0, 0) with constraint t = 5, p1 = (7, 15), p2 = (7, 16) applied to agent 0\n",
      "# of completed trips 0\n",
      "advancing agents...\n",
      "# of completed trips 2\n",
      "advancing agents...\n",
      "RCBS successful\n"
     ]
    }
   ],
   "source": [
    "x = {\n",
    "    0: PathVertex((7,10), 0),\n",
    "    1: PathVertex((7,22), 0)\n",
    "}\n",
    "final_goals = {\n",
    "    0: (7,22),\n",
    "    1: (7,10)\n",
    "}\n",
    "region_paths = {\n",
    "    0: [(0,0),(0,1)],\n",
    "    1: [(0,1),(0,0)]\n",
    "}\n",
    "root = init_rcbs(env, x, final_goals, region_paths)\n",
    "foo = regional_cbs(root, env, 1.05, verbose=True)\n",
    "# solution = foo.make_solution()"
   ]
  },
  {
   "cell_type": "code",
   "execution_count": 14,
   "metadata": {},
   "outputs": [
    {
     "name": "stdout",
     "output_type": "stream",
     "text": [
      "(80, 80)\n",
      "69.2820323027551\n"
     ]
    },
    {
     "data": {
      "text/plain": [
       "<matplotlib.image.AxesImage at 0x1880c28c750>"
      ]
     },
     "execution_count": 14,
     "metadata": {},
     "output_type": "execute_result"
    },
    {
     "data": {
      "image/png": "[encoded data removed]",
      "text/plain": [
       "<Figure size 640x480 with 1 Axes>"
      ]
     },
     "metadata": {},
     "output_type": "display_data"
    }
   ],
   "source": [
    "nrows = 5\n",
    "ncols = 5\n",
    "env = ColumnLatticeEnvironment(nrows, ncols, 4, 4, 2, 2, 2, 2)\n",
    "size = env.gridworld.size\n",
    "print(size)\n",
    "print(np.sqrt(size[0]*size[1]-len(env.gridworld.obstacles)))\n",
    "fig, ax = plt.subplots()\n",
    "draw_environment(ax,env,{},{})"
   ]
  },
  {
   "cell_type": "code",
   "execution_count": 57,
   "metadata": {},
   "outputs": [
    {
     "name": "stdout",
     "output_type": "stream",
     "text": [
      "120\n"
     ]
    }
   ],
   "source": [
    "# N_agents = int(2*np.sqrt(size[0]*size[1]-len(env.gridworld.obstacles)))\n",
    "N_agents = 120\n",
    "print(N_agents)\n",
    "x, final_goals, region_paths = random_problem(N_agents, env, path_cutoff = nrows+ncols)"
   ]
  },
  {
   "cell_type": "code",
   "execution_count": 58,
   "metadata": {},
   "outputs": [
    {
     "name": "stdout",
     "output_type": "stream",
     "text": [
      "# of completed trips 0\n",
      "advancing agents...\n",
      "Branching at region (1, 1) with constraint t = 14, p1 = (31, 16), p2 = (31, 15) applied to agent 82\n",
      "Branching at region (1, 0) with constraint t = 14, p1 = (31, 15), p2 = (31, 16) applied to agent 4\n",
      "Branching at region (1, 3) with constraint t = 20, p1 = (16, 48), p2 = (16, 47) applied to agent 14\n",
      "Branching at region (0, 2) with constraint t = 20, p1 = (15, 47), p2 = (16, 47) applied to agent 117\n",
      "Branching at region (2, 0) with constraint t = 13, p1 = (32, 15), p2 = (31, 15) applied to agent 100\n",
      "Branching at region (1, 0) with constraint t = 13, p1 = (31, 14), p2 = (31, 15) applied to agent 4\n",
      "Branching at region (3, 3) with constraint t = 19, p1 = (63, 48), p2 = (63, 47) applied to agent 37\n",
      "Branching at region (3, 2) with constraint t = 19, p1 = (63, 46), p2 = (63, 47) applied to agent 80\n",
      "Branching at region (3, 3) with constraint t = 28, p1 = (48, 49), p2 = (47, 49) applied to agent 38\n",
      "Branching at region (2, 3) with constraint t = 28, p1 = (47, 49), p2 = (48, 49) applied to agent 19\n",
      "# of completed trips 120\n",
      "advancing agents...\n",
      "Branching at region (3, 3) with constraint t = 28, p1 = (48, 49), p2 = (47, 49) applied to agent 38\n",
      "Branching at region (2, 3) with constraint t = 28, p1 = (47, 49), p2 = (48, 49) applied to agent 19\n",
      "# of completed trips 120\n",
      "advancing agents...\n",
      "Branching at region (3, 3) with constraint t = 28, p1 = (48, 49), p2 = (48, 49) applied to agent 38\n",
      "Branching at region (2, 3) with constraint t = 28, p1 = (47, 49), p2 = (48, 49) applied to agent 19\n",
      "# of completed trips 120\n",
      "advancing agents...\n",
      "Branching at region (3, 3) with constraint t = 28, p1 = (48, 49), p2 = (48, 49) applied to agent 38\n",
      "Branching at region (2, 3) with constraint t = 28, p1 = (47, 49), p2 = (48, 49) applied to agent 19\n",
      "# of completed trips 120\n",
      "advancing agents...\n",
      "Branching at region (3, 3) with constraint t = 28, p1 = (49, 49), p2 = (48, 49) applied to agent 38\n",
      "Branching at region (2, 3) with constraint t = 28, p1 = (47, 49), p2 = (48, 49) applied to agent 19\n",
      "# of completed trips 120\n",
      "advancing agents...\n",
      "# of completed trips 120\n",
      "advancing agents...\n",
      "Branching at region (3, 3) with constraint t = 28, p1 = (49, 49), p2 = (48, 49) applied to agent 38\n",
      "Branching at region (2, 3) with constraint t = 28, p1 = (47, 49), p2 = (48, 49) applied to agent 19\n",
      "# of completed trips 120\n",
      "advancing agents...\n",
      "# of completed trips 120\n",
      "advancing agents...\n",
      "Branching at region (1, 1) with constraint t = 15, p1 = (30, 16), p2 = (30, 15) applied to agent 82\n",
      "Branching at region (1, 0) with constraint t = 15, p1 = (30, 15), p2 = (30, 16) applied to agent 4\n",
      "Branching at region (3, 3) with constraint t = 19, p1 = (63, 48), p2 = (63, 47) applied to agent 37\n",
      "Branching at region (3, 2) with constraint t = 19, p1 = (63, 46), p2 = (63, 47) applied to agent 80\n",
      "Branching at region (3, 3) with constraint t = 28, p1 = (48, 49), p2 = (47, 49) applied to agent 38\n",
      "Branching at region (2, 3) with constraint t = 28, p1 = (47, 49), p2 = (48, 49) applied to agent 19\n",
      "# of completed trips 120\n",
      "advancing agents...\n",
      "Branching at region (3, 3) with constraint t = 28, p1 = (48, 49), p2 = (47, 49) applied to agent 38\n",
      "Branching at region (2, 3) with constraint t = 28, p1 = (47, 49), p2 = (48, 49) applied to agent 19\n",
      "# of completed trips 120\n",
      "advancing agents...\n",
      "Branching at region (3, 3) with constraint t = 28, p1 = (48, 49), p2 = (48, 49) applied to agent 38\n",
      "Branching at region (2, 3) with constraint t = 28, p1 = (47, 49), p2 = (48, 49) applied to agent 19\n",
      "# of completed trips 120\n",
      "advancing agents...\n",
      "Branching at region (3, 3) with constraint t = 28, p1 = (48, 49), p2 = (48, 49) applied to agent 38\n",
      "Branching at region (2, 3) with constraint t = 28, p1 = (47, 49), p2 = (48, 49) applied to agent 19\n",
      "# of completed trips 120\n",
      "advancing agents...\n",
      "Branching at region (3, 3) with constraint t = 28, p1 = (49, 49), p2 = (48, 49) applied to agent 38\n",
      "Branching at region (2, 3) with constraint t = 28, p1 = (47, 49), p2 = (48, 49) applied to agent 19\n",
      "# of completed trips 120\n",
      "advancing agents...\n",
      "# of completed trips 120\n",
      "advancing agents...\n",
      "Branching at region (3, 3) with constraint t = 28, p1 = (49, 49), p2 = (48, 49) applied to agent 38\n",
      "Branching at region (2, 3) with constraint t = 28, p1 = (47, 49), p2 = (48, 49) applied to agent 19\n",
      "# of completed trips 120\n",
      "advancing agents...\n",
      "# of completed trips 120\n",
      "advancing agents...\n",
      "Branching at region (3, 3) with constraint t = 19, p1 = (63, 48), p2 = (63, 47) applied to agent 37\n",
      "Branching at region (3, 2) with constraint t = 19, p1 = (63, 46), p2 = (63, 47) applied to agent 80\n",
      "Branching at region (3, 3) with constraint t = 28, p1 = (48, 49), p2 = (47, 49) applied to agent 38\n",
      "Branching at region (2, 3) with constraint t = 28, p1 = (47, 49), p2 = (48, 49) applied to agent 19\n",
      "# of completed trips 120\n",
      "advancing agents...\n",
      "Branching at region (3, 3) with constraint t = 28, p1 = (48, 49), p2 = (47, 49) applied to agent 38\n",
      "Branching at region (2, 3) with constraint t = 28, p1 = (47, 49), p2 = (48, 49) applied to agent 19\n",
      "# of completed trips 120\n",
      "advancing agents...\n",
      "Branching at region (3, 3) with constraint t = 28, p1 = (48, 49), p2 = (48, 49) applied to agent 38\n",
      "Branching at region (2, 3) with constraint t = 28, p1 = (47, 49), p2 = (48, 49) applied to agent 19\n",
      "# of completed trips 120\n",
      "advancing agents...\n",
      "Branching at region (3, 3) with constraint t = 28, p1 = (48, 49), p2 = (48, 49) applied to agent 38\n",
      "Branching at region (2, 3) with constraint t = 28, p1 = (47, 49), p2 = (48, 49) applied to agent 19\n",
      "# of completed trips 120\n",
      "advancing agents...\n",
      "Branching at region (3, 3) with constraint t = 28, p1 = (49, 49), p2 = (48, 49) applied to agent 38\n",
      "Branching at region (2, 3) with constraint t = 28, p1 = (47, 49), p2 = (48, 49) applied to agent 19\n",
      "# of completed trips 120\n",
      "advancing agents...\n",
      "# of completed trips 120\n",
      "advancing agents...\n",
      "Branching at region (3, 3) with constraint t = 28, p1 = (49, 49), p2 = (48, 49) applied to agent 38\n",
      "Branching at region (2, 3) with constraint t = 28, p1 = (47, 49), p2 = (48, 49) applied to agent 19\n",
      "# of completed trips 120\n",
      "advancing agents...\n",
      "# of completed trips 120\n",
      "advancing agents...\n",
      "Branching at region (2, 0) with constraint t = 13, p1 = (32, 15), p2 = (31, 15) applied to agent 100\n",
      "Branching at region (1, 0) with constraint t = 13, p1 = (31, 14), p2 = (31, 15) applied to agent 4\n",
      "Branching at region (3, 3) with constraint t = 19, p1 = (63, 48), p2 = (63, 47) applied to agent 37\n",
      "Branching at region (3, 2) with constraint t = 19, p1 = (63, 46), p2 = (63, 47) applied to agent 80\n",
      "Branching at region (3, 3) with constraint t = 28, p1 = (48, 49), p2 = (47, 49) applied to agent 38\n",
      "Branching at region (2, 3) with constraint t = 28, p1 = (47, 49), p2 = (48, 49) applied to agent 19\n",
      "# of completed trips 120\n",
      "advancing agents...\n",
      "Branching at region (3, 3) with constraint t = 28, p1 = (48, 49), p2 = (47, 49) applied to agent 38\n",
      "Branching at region (2, 3) with constraint t = 28, p1 = (47, 49), p2 = (48, 49) applied to agent 19\n",
      "# of completed trips 120\n",
      "advancing agents...\n",
      "Branching at region (3, 3) with constraint t = 28, p1 = (48, 49), p2 = (48, 49) applied to agent 38\n",
      "Branching at region (2, 3) with constraint t = 28, p1 = (47, 49), p2 = (48, 49) applied to agent 19\n",
      "# of completed trips 120\n",
      "advancing agents...\n",
      "Branching at region (3, 3) with constraint t = 28, p1 = (48, 49), p2 = (48, 49) applied to agent 38\n",
      "Branching at region (2, 3) with constraint t = 28, p1 = (47, 49), p2 = (48, 49) applied to agent 19\n",
      "# of completed trips 120\n",
      "advancing agents...\n",
      "Branching at region (3, 3) with constraint t = 28, p1 = (49, 49), p2 = (48, 49) applied to agent 38\n",
      "Branching at region (2, 3) with constraint t = 28, p1 = (47, 49), p2 = (48, 49) applied to agent 19\n",
      "# of completed trips 120\n",
      "advancing agents...\n",
      "# of completed trips 120\n",
      "advancing agents...\n",
      "Branching at region (3, 3) with constraint t = 28, p1 = (49, 49), p2 = (48, 49) applied to agent 38\n",
      "Branching at region (2, 3) with constraint t = 28, p1 = (47, 49), p2 = (48, 49) applied to agent 19\n",
      "# of completed trips 120\n",
      "advancing agents...\n",
      "# of completed trips 120\n",
      "advancing agents...\n",
      "Branching at region (1, 1) with constraint t = 15, p1 = (30, 16), p2 = (30, 15) applied to agent 82\n",
      "Branching at region (1, 0) with constraint t = 15, p1 = (30, 15), p2 = (30, 16) applied to agent 4\n",
      "Branching at region (3, 3) with constraint t = 19, p1 = (63, 48), p2 = (63, 47) applied to agent 37\n",
      "Branching at region (3, 2) with constraint t = 19, p1 = (63, 46), p2 = (63, 47) applied to agent 80\n",
      "Branching at region (3, 3) with constraint t = 28, p1 = (48, 49), p2 = (47, 49) applied to agent 38\n",
      "Branching at region (2, 3) with constraint t = 28, p1 = (47, 49), p2 = (48, 49) applied to agent 19\n",
      "# of completed trips 120\n",
      "advancing agents...\n",
      "Branching at region (3, 3) with constraint t = 28, p1 = (48, 49), p2 = (47, 49) applied to agent 38\n",
      "Branching at region (2, 3) with constraint t = 28, p1 = (47, 49), p2 = (48, 49) applied to agent 19\n",
      "# of completed trips 120\n",
      "advancing agents...\n",
      "Branching at region (3, 3) with constraint t = 28, p1 = (48, 49), p2 = (48, 49) applied to agent 38\n",
      "Branching at region (2, 3) with constraint t = 28, p1 = (47, 49), p2 = (48, 49) applied to agent 19\n",
      "# of completed trips 120\n",
      "advancing agents...\n",
      "Branching at region (3, 3) with constraint t = 28, p1 = (48, 49), p2 = (48, 49) applied to agent 38\n",
      "Branching at region (2, 3) with constraint t = 28, p1 = (47, 49), p2 = (48, 49) applied to agent 19\n",
      "# of completed trips 120\n",
      "advancing agents...\n",
      "Branching at region (3, 3) with constraint t = 28, p1 = (49, 49), p2 = (48, 49) applied to agent 38\n",
      "Branching at region (2, 3) with constraint t = 28, p1 = (47, 49), p2 = (48, 49) applied to agent 19\n",
      "# of completed trips 120\n",
      "advancing agents...\n",
      "# of completed trips 120\n",
      "advancing agents...\n",
      "Branching at region (3, 3) with constraint t = 28, p1 = (49, 49), p2 = (48, 49) applied to agent 38\n",
      "Branching at region (2, 3) with constraint t = 28, p1 = (47, 49), p2 = (48, 49) applied to agent 19\n",
      "# of completed trips 120\n",
      "advancing agents...\n",
      "# of completed trips 120\n",
      "advancing agents...\n",
      "Branching at region (3, 3) with constraint t = 19, p1 = (63, 48), p2 = (63, 47) applied to agent 37\n",
      "Branching at region (3, 2) with constraint t = 19, p1 = (63, 46), p2 = (63, 47) applied to agent 80\n",
      "Branching at region (3, 3) with constraint t = 28, p1 = (48, 49), p2 = (47, 49) applied to agent 38\n",
      "Branching at region (2, 3) with constraint t = 28, p1 = (47, 49), p2 = (48, 49) applied to agent 19\n",
      "# of completed trips 120\n",
      "advancing agents...\n",
      "Branching at region (3, 3) with constraint t = 28, p1 = (48, 49), p2 = (48, 49) applied to agent 38\n",
      "Branching at region (2, 3) with constraint t = 28, p1 = (47, 49), p2 = (48, 49) applied to agent 19\n",
      "# of completed trips 120\n",
      "advancing agents...\n",
      "Branching at region (3, 3) with constraint t = 28, p1 = (49, 49), p2 = (48, 49) applied to agent 38\n",
      "Branching at region (2, 3) with constraint t = 28, p1 = (47, 49), p2 = (48, 49) applied to agent 19\n",
      "# of completed trips 120\n",
      "advancing agents...\n",
      "# of completed trips 120\n",
      "advancing agents...\n",
      "Branching at region (3, 3) with constraint t = 28, p1 = (48, 49), p2 = (47, 49) applied to agent 38\n",
      "Branching at region (2, 3) with constraint t = 28, p1 = (47, 49), p2 = (48, 49) applied to agent 19\n",
      "# of completed trips 120\n",
      "advancing agents...\n",
      "Branching at region (3, 3) with constraint t = 28, p1 = (48, 49), p2 = (48, 49) applied to agent 38\n",
      "Branching at region (2, 3) with constraint t = 28, p1 = (47, 49), p2 = (48, 49) applied to agent 19\n",
      "# of completed trips 120\n",
      "advancing agents...\n",
      "Branching at region (3, 3) with constraint t = 28, p1 = (49, 49), p2 = (48, 49) applied to agent 38\n",
      "Branching at region (2, 3) with constraint t = 28, p1 = (47, 49), p2 = (48, 49) applied to agent 19\n",
      "# of completed trips 120\n",
      "advancing agents...\n",
      "# of completed trips 120\n",
      "advancing agents...\n",
      "Branching at region (1, 1) with constraint t = 14, p1 = (31, 16), p2 = (31, 15) applied to agent 82\n",
      "Branching at region (1, 0) with constraint t = 14, p1 = (31, 15), p2 = (31, 15) applied to agent 4\n"
     ]
    },
    {
     "ename": "KeyboardInterrupt",
     "evalue": "",
     "output_type": "error",
     "traceback": [
      "\u001b[1;31m---------------------------------------------------------------------------\u001b[0m",
      "\u001b[1;31mKeyboardInterrupt\u001b[0m                         Traceback (most recent call last)",
      "Cell \u001b[1;32mIn[58], line 3\u001b[0m\n\u001b[0;32m      1\u001b[0m omega \u001b[38;5;241m=\u001b[39m \u001b[38;5;241m1.1\u001b[39m\n\u001b[0;32m      2\u001b[0m root \u001b[38;5;241m=\u001b[39m init_rcbs(env, x, final_goals, region_paths)\n\u001b[1;32m----> 3\u001b[0m M \u001b[38;5;241m=\u001b[39m \u001b[43mregional_cbs\u001b[49m\u001b[43m(\u001b[49m\u001b[43mroot\u001b[49m\u001b[43m,\u001b[49m\u001b[43m \u001b[49m\u001b[43menv\u001b[49m\u001b[43m,\u001b[49m\u001b[43m \u001b[49m\u001b[43momega\u001b[49m\u001b[43m,\u001b[49m\u001b[43m \u001b[49m\u001b[43mverbose\u001b[49m\u001b[43m \u001b[49m\u001b[38;5;241;43m=\u001b[39;49m\u001b[43m \u001b[49m\u001b[38;5;28;43;01mTrue\u001b[39;49;00m\u001b[43m,\u001b[49m\u001b[43m \u001b[49m\u001b[43mmaxtime\u001b[49m\u001b[43m \u001b[49m\u001b[38;5;241;43m=\u001b[39;49m\u001b[43m \u001b[49m\u001b[38;5;241;43m240.\u001b[39;49m\u001b[43m)\u001b[49m\n",
      "File \u001b[1;32mc:\\Users\\Joseph Sullivan\\Documents\\cbs\\multirobot_planning\\cbs\\rcbs.py:668\u001b[0m, in \u001b[0;36mregional_cbs\u001b[1;34m(root, env, omega, maxtime, cbs_maxtime, verbose)\u001b[0m\n\u001b[0;32m    666\u001b[0m \u001b[38;5;28;01mif\u001b[39;00m verbose:\n\u001b[0;32m    667\u001b[0m     \u001b[38;5;28mprint\u001b[39m(\u001b[38;5;124mf\u001b[39m\u001b[38;5;124m'\u001b[39m\u001b[38;5;124mBranching at region \u001b[39m\u001b[38;5;132;01m{\u001b[39;00mr\u001b[38;5;132;01m}\u001b[39;00m\u001b[38;5;124m with constraint \u001b[39m\u001b[38;5;132;01m{\u001b[39;00mc\u001b[38;5;132;01m}\u001b[39;00m\u001b[38;5;124m applied to agent \u001b[39m\u001b[38;5;132;01m{\u001b[39;00m\u001b[38;5;28mid\u001b[39m\u001b[38;5;132;01m}\u001b[39;00m\u001b[38;5;124m'\u001b[39m)\n\u001b[1;32m--> 668\u001b[0m new_node \u001b[38;5;241m=\u001b[39m \u001b[43mbranch_rcbs\u001b[49m\u001b[43m(\u001b[49m\u001b[43mM\u001b[49m\u001b[43m,\u001b[49m\u001b[43m \u001b[49m\u001b[43mr\u001b[49m\u001b[43m,\u001b[49m\u001b[43m \u001b[49m\u001b[38;5;28;43mid\u001b[39;49m\u001b[43m,\u001b[49m\u001b[43m \u001b[49m\u001b[43mc\u001b[49m\u001b[43m)\u001b[49m\n\u001b[0;32m    669\u001b[0m update_region(new_node, env, r, omega, cbs_maxtime)\n\u001b[0;32m    670\u001b[0m new_node\u001b[38;5;241m.\u001b[39mcompute_cost()\n",
      "File \u001b[1;32mc:\\Users\\Joseph Sullivan\\Documents\\cbs\\multirobot_planning\\cbs\\rcbs.py:593\u001b[0m, in \u001b[0;36mbranch_rcbs\u001b[1;34m(node, r, id, c)\u001b[0m\n\u001b[0;32m    588\u001b[0m \u001b[38;5;28;01mdef\u001b[39;00m \u001b[38;5;21mbranch_rcbs\u001b[39m(node: RCBSNode, \n\u001b[0;32m    589\u001b[0m                 r: \u001b[38;5;28mtuple\u001b[39m, \n\u001b[0;32m    590\u001b[0m                 \u001b[38;5;28mid\u001b[39m: \u001b[38;5;28mint\u001b[39m, \n\u001b[0;32m    591\u001b[0m                 c: Constraint):\n\u001b[0;32m    592\u001b[0m     \u001b[38;5;66;03m# allocate new nodes\u001b[39;00m\n\u001b[1;32m--> 593\u001b[0m     M \u001b[38;5;241m=\u001b[39m \u001b[43mcopy\u001b[49m\u001b[38;5;241;43m.\u001b[39;49m\u001b[43mdeepcopy\u001b[49m\u001b[43m(\u001b[49m\u001b[43mnode\u001b[49m\u001b[43m)\u001b[49m\n\u001b[0;32m    594\u001b[0m     N \u001b[38;5;241m=\u001b[39m M\u001b[38;5;241m.\u001b[39mcbs_nodes[r]\n\u001b[0;32m    595\u001b[0m     N\u001b[38;5;241m.\u001b[39mapply_constraint(\u001b[38;5;28mid\u001b[39m, c)\n",
      "File \u001b[1;32mC:\\Program Files\\WindowsApps\\PythonSoftwareFoundation.Python.3.11_3.11.2288.0_x64__qbz5n2kfra8p0\\Lib\\copy.py:172\u001b[0m, in \u001b[0;36mdeepcopy\u001b[1;34m(x, memo, _nil)\u001b[0m\n\u001b[0;32m    170\u001b[0m                 y \u001b[38;5;241m=\u001b[39m x\n\u001b[0;32m    171\u001b[0m             \u001b[38;5;28;01melse\u001b[39;00m:\n\u001b[1;32m--> 172\u001b[0m                 y \u001b[38;5;241m=\u001b[39m \u001b[43m_reconstruct\u001b[49m\u001b[43m(\u001b[49m\u001b[43mx\u001b[49m\u001b[43m,\u001b[49m\u001b[43m \u001b[49m\u001b[43mmemo\u001b[49m\u001b[43m,\u001b[49m\u001b[43m \u001b[49m\u001b[38;5;241;43m*\u001b[39;49m\u001b[43mrv\u001b[49m\u001b[43m)\u001b[49m\n\u001b[0;32m    174\u001b[0m \u001b[38;5;66;03m# If is its own copy, don't memoize.\u001b[39;00m\n\u001b[0;32m    175\u001b[0m \u001b[38;5;28;01mif\u001b[39;00m y \u001b[38;5;129;01mis\u001b[39;00m \u001b[38;5;129;01mnot\u001b[39;00m x:\n",
      "File \u001b[1;32mC:\\Program Files\\WindowsApps\\PythonSoftwareFoundation.Python.3.11_3.11.2288.0_x64__qbz5n2kfra8p0\\Lib\\copy.py:271\u001b[0m, in \u001b[0;36m_reconstruct\u001b[1;34m(x, memo, func, args, state, listiter, dictiter, deepcopy)\u001b[0m\n\u001b[0;32m    269\u001b[0m \u001b[38;5;28;01mif\u001b[39;00m state \u001b[38;5;129;01mis\u001b[39;00m \u001b[38;5;129;01mnot\u001b[39;00m \u001b[38;5;28;01mNone\u001b[39;00m:\n\u001b[0;32m    270\u001b[0m     \u001b[38;5;28;01mif\u001b[39;00m deep:\n\u001b[1;32m--> 271\u001b[0m         state \u001b[38;5;241m=\u001b[39m \u001b[43mdeepcopy\u001b[49m\u001b[43m(\u001b[49m\u001b[43mstate\u001b[49m\u001b[43m,\u001b[49m\u001b[43m \u001b[49m\u001b[43mmemo\u001b[49m\u001b[43m)\u001b[49m\n\u001b[0;32m    272\u001b[0m     \u001b[38;5;28;01mif\u001b[39;00m \u001b[38;5;28mhasattr\u001b[39m(y, \u001b[38;5;124m'\u001b[39m\u001b[38;5;124m__setstate__\u001b[39m\u001b[38;5;124m'\u001b[39m):\n\u001b[0;32m    273\u001b[0m         y\u001b[38;5;241m.\u001b[39m__setstate__(state)\n",
      "File \u001b[1;32mC:\\Program Files\\WindowsApps\\PythonSoftwareFoundation.Python.3.11_3.11.2288.0_x64__qbz5n2kfra8p0\\Lib\\copy.py:146\u001b[0m, in \u001b[0;36mdeepcopy\u001b[1;34m(x, memo, _nil)\u001b[0m\n\u001b[0;32m    144\u001b[0m copier \u001b[38;5;241m=\u001b[39m _deepcopy_dispatch\u001b[38;5;241m.\u001b[39mget(\u001b[38;5;28mcls\u001b[39m)\n\u001b[0;32m    145\u001b[0m \u001b[38;5;28;01mif\u001b[39;00m copier \u001b[38;5;129;01mis\u001b[39;00m \u001b[38;5;129;01mnot\u001b[39;00m \u001b[38;5;28;01mNone\u001b[39;00m:\n\u001b[1;32m--> 146\u001b[0m     y \u001b[38;5;241m=\u001b[39m \u001b[43mcopier\u001b[49m\u001b[43m(\u001b[49m\u001b[43mx\u001b[49m\u001b[43m,\u001b[49m\u001b[43m \u001b[49m\u001b[43mmemo\u001b[49m\u001b[43m)\u001b[49m\n\u001b[0;32m    147\u001b[0m \u001b[38;5;28;01melse\u001b[39;00m:\n\u001b[0;32m    148\u001b[0m     \u001b[38;5;28;01mif\u001b[39;00m \u001b[38;5;28missubclass\u001b[39m(\u001b[38;5;28mcls\u001b[39m, \u001b[38;5;28mtype\u001b[39m):\n",
      "File \u001b[1;32mC:\\Program Files\\WindowsApps\\PythonSoftwareFoundation.Python.3.11_3.11.2288.0_x64__qbz5n2kfra8p0\\Lib\\copy.py:231\u001b[0m, in \u001b[0;36m_deepcopy_dict\u001b[1;34m(x, memo, deepcopy)\u001b[0m\n\u001b[0;32m    229\u001b[0m memo[\u001b[38;5;28mid\u001b[39m(x)] \u001b[38;5;241m=\u001b[39m y\n\u001b[0;32m    230\u001b[0m \u001b[38;5;28;01mfor\u001b[39;00m key, value \u001b[38;5;129;01min\u001b[39;00m x\u001b[38;5;241m.\u001b[39mitems():\n\u001b[1;32m--> 231\u001b[0m     y[deepcopy(key, memo)] \u001b[38;5;241m=\u001b[39m \u001b[43mdeepcopy\u001b[49m\u001b[43m(\u001b[49m\u001b[43mvalue\u001b[49m\u001b[43m,\u001b[49m\u001b[43m \u001b[49m\u001b[43mmemo\u001b[49m\u001b[43m)\u001b[49m\n\u001b[0;32m    232\u001b[0m \u001b[38;5;28;01mreturn\u001b[39;00m y\n",
      "File \u001b[1;32mC:\\Program Files\\WindowsApps\\PythonSoftwareFoundation.Python.3.11_3.11.2288.0_x64__qbz5n2kfra8p0\\Lib\\copy.py:146\u001b[0m, in \u001b[0;36mdeepcopy\u001b[1;34m(x, memo, _nil)\u001b[0m\n\u001b[0;32m    144\u001b[0m copier \u001b[38;5;241m=\u001b[39m _deepcopy_dispatch\u001b[38;5;241m.\u001b[39mget(\u001b[38;5;28mcls\u001b[39m)\n\u001b[0;32m    145\u001b[0m \u001b[38;5;28;01mif\u001b[39;00m copier \u001b[38;5;129;01mis\u001b[39;00m \u001b[38;5;129;01mnot\u001b[39;00m \u001b[38;5;28;01mNone\u001b[39;00m:\n\u001b[1;32m--> 146\u001b[0m     y \u001b[38;5;241m=\u001b[39m \u001b[43mcopier\u001b[49m\u001b[43m(\u001b[49m\u001b[43mx\u001b[49m\u001b[43m,\u001b[49m\u001b[43m \u001b[49m\u001b[43mmemo\u001b[49m\u001b[43m)\u001b[49m\n\u001b[0;32m    147\u001b[0m \u001b[38;5;28;01melse\u001b[39;00m:\n\u001b[0;32m    148\u001b[0m     \u001b[38;5;28;01mif\u001b[39;00m \u001b[38;5;28missubclass\u001b[39m(\u001b[38;5;28mcls\u001b[39m, \u001b[38;5;28mtype\u001b[39m):\n",
      "File \u001b[1;32mC:\\Program Files\\WindowsApps\\PythonSoftwareFoundation.Python.3.11_3.11.2288.0_x64__qbz5n2kfra8p0\\Lib\\copy.py:231\u001b[0m, in \u001b[0;36m_deepcopy_dict\u001b[1;34m(x, memo, deepcopy)\u001b[0m\n\u001b[0;32m    229\u001b[0m memo[\u001b[38;5;28mid\u001b[39m(x)] \u001b[38;5;241m=\u001b[39m y\n\u001b[0;32m    230\u001b[0m \u001b[38;5;28;01mfor\u001b[39;00m key, value \u001b[38;5;129;01min\u001b[39;00m x\u001b[38;5;241m.\u001b[39mitems():\n\u001b[1;32m--> 231\u001b[0m     y[deepcopy(key, memo)] \u001b[38;5;241m=\u001b[39m \u001b[43mdeepcopy\u001b[49m\u001b[43m(\u001b[49m\u001b[43mvalue\u001b[49m\u001b[43m,\u001b[49m\u001b[43m \u001b[49m\u001b[43mmemo\u001b[49m\u001b[43m)\u001b[49m\n\u001b[0;32m    232\u001b[0m \u001b[38;5;28;01mreturn\u001b[39;00m y\n",
      "File \u001b[1;32mC:\\Program Files\\WindowsApps\\PythonSoftwareFoundation.Python.3.11_3.11.2288.0_x64__qbz5n2kfra8p0\\Lib\\copy.py:172\u001b[0m, in \u001b[0;36mdeepcopy\u001b[1;34m(x, memo, _nil)\u001b[0m\n\u001b[0;32m    170\u001b[0m                 y \u001b[38;5;241m=\u001b[39m x\n\u001b[0;32m    171\u001b[0m             \u001b[38;5;28;01melse\u001b[39;00m:\n\u001b[1;32m--> 172\u001b[0m                 y \u001b[38;5;241m=\u001b[39m \u001b[43m_reconstruct\u001b[49m\u001b[43m(\u001b[49m\u001b[43mx\u001b[49m\u001b[43m,\u001b[49m\u001b[43m \u001b[49m\u001b[43mmemo\u001b[49m\u001b[43m,\u001b[49m\u001b[43m \u001b[49m\u001b[38;5;241;43m*\u001b[39;49m\u001b[43mrv\u001b[49m\u001b[43m)\u001b[49m\n\u001b[0;32m    174\u001b[0m \u001b[38;5;66;03m# If is its own copy, don't memoize.\u001b[39;00m\n\u001b[0;32m    175\u001b[0m \u001b[38;5;28;01mif\u001b[39;00m y \u001b[38;5;129;01mis\u001b[39;00m \u001b[38;5;129;01mnot\u001b[39;00m x:\n",
      "File \u001b[1;32mC:\\Program Files\\WindowsApps\\PythonSoftwareFoundation.Python.3.11_3.11.2288.0_x64__qbz5n2kfra8p0\\Lib\\copy.py:271\u001b[0m, in \u001b[0;36m_reconstruct\u001b[1;34m(x, memo, func, args, state, listiter, dictiter, deepcopy)\u001b[0m\n\u001b[0;32m    269\u001b[0m \u001b[38;5;28;01mif\u001b[39;00m state \u001b[38;5;129;01mis\u001b[39;00m \u001b[38;5;129;01mnot\u001b[39;00m \u001b[38;5;28;01mNone\u001b[39;00m:\n\u001b[0;32m    270\u001b[0m     \u001b[38;5;28;01mif\u001b[39;00m deep:\n\u001b[1;32m--> 271\u001b[0m         state \u001b[38;5;241m=\u001b[39m \u001b[43mdeepcopy\u001b[49m\u001b[43m(\u001b[49m\u001b[43mstate\u001b[49m\u001b[43m,\u001b[49m\u001b[43m \u001b[49m\u001b[43mmemo\u001b[49m\u001b[43m)\u001b[49m\n\u001b[0;32m    272\u001b[0m     \u001b[38;5;28;01mif\u001b[39;00m \u001b[38;5;28mhasattr\u001b[39m(y, \u001b[38;5;124m'\u001b[39m\u001b[38;5;124m__setstate__\u001b[39m\u001b[38;5;124m'\u001b[39m):\n\u001b[0;32m    273\u001b[0m         y\u001b[38;5;241m.\u001b[39m__setstate__(state)\n",
      "    \u001b[1;31m[... skipping similar frames: _deepcopy_dict at line 231 (2 times), deepcopy at line 146 (2 times)]\u001b[0m\n",
      "File \u001b[1;32mC:\\Program Files\\WindowsApps\\PythonSoftwareFoundation.Python.3.11_3.11.2288.0_x64__qbz5n2kfra8p0\\Lib\\copy.py:172\u001b[0m, in \u001b[0;36mdeepcopy\u001b[1;34m(x, memo, _nil)\u001b[0m\n\u001b[0;32m    170\u001b[0m                 y \u001b[38;5;241m=\u001b[39m x\n\u001b[0;32m    171\u001b[0m             \u001b[38;5;28;01melse\u001b[39;00m:\n\u001b[1;32m--> 172\u001b[0m                 y \u001b[38;5;241m=\u001b[39m \u001b[43m_reconstruct\u001b[49m\u001b[43m(\u001b[49m\u001b[43mx\u001b[49m\u001b[43m,\u001b[49m\u001b[43m \u001b[49m\u001b[43mmemo\u001b[49m\u001b[43m,\u001b[49m\u001b[43m \u001b[49m\u001b[38;5;241;43m*\u001b[39;49m\u001b[43mrv\u001b[49m\u001b[43m)\u001b[49m\n\u001b[0;32m    174\u001b[0m \u001b[38;5;66;03m# If is its own copy, don't memoize.\u001b[39;00m\n\u001b[0;32m    175\u001b[0m \u001b[38;5;28;01mif\u001b[39;00m y \u001b[38;5;129;01mis\u001b[39;00m \u001b[38;5;129;01mnot\u001b[39;00m x:\n",
      "File \u001b[1;32mC:\\Program Files\\WindowsApps\\PythonSoftwareFoundation.Python.3.11_3.11.2288.0_x64__qbz5n2kfra8p0\\Lib\\copy.py:271\u001b[0m, in \u001b[0;36m_reconstruct\u001b[1;34m(x, memo, func, args, state, listiter, dictiter, deepcopy)\u001b[0m\n\u001b[0;32m    269\u001b[0m \u001b[38;5;28;01mif\u001b[39;00m state \u001b[38;5;129;01mis\u001b[39;00m \u001b[38;5;129;01mnot\u001b[39;00m \u001b[38;5;28;01mNone\u001b[39;00m:\n\u001b[0;32m    270\u001b[0m     \u001b[38;5;28;01mif\u001b[39;00m deep:\n\u001b[1;32m--> 271\u001b[0m         state \u001b[38;5;241m=\u001b[39m \u001b[43mdeepcopy\u001b[49m\u001b[43m(\u001b[49m\u001b[43mstate\u001b[49m\u001b[43m,\u001b[49m\u001b[43m \u001b[49m\u001b[43mmemo\u001b[49m\u001b[43m)\u001b[49m\n\u001b[0;32m    272\u001b[0m     \u001b[38;5;28;01mif\u001b[39;00m \u001b[38;5;28mhasattr\u001b[39m(y, \u001b[38;5;124m'\u001b[39m\u001b[38;5;124m__setstate__\u001b[39m\u001b[38;5;124m'\u001b[39m):\n\u001b[0;32m    273\u001b[0m         y\u001b[38;5;241m.\u001b[39m__setstate__(state)\n",
      "    \u001b[1;31m[... skipping similar frames: deepcopy at line 146 (1 times)]\u001b[0m\n",
      "File \u001b[1;32mC:\\Program Files\\WindowsApps\\PythonSoftwareFoundation.Python.3.11_3.11.2288.0_x64__qbz5n2kfra8p0\\Lib\\copy.py:231\u001b[0m, in \u001b[0;36m_deepcopy_dict\u001b[1;34m(x, memo, deepcopy)\u001b[0m\n\u001b[0;32m    229\u001b[0m memo[\u001b[38;5;28mid\u001b[39m(x)] \u001b[38;5;241m=\u001b[39m y\n\u001b[0;32m    230\u001b[0m \u001b[38;5;28;01mfor\u001b[39;00m key, value \u001b[38;5;129;01min\u001b[39;00m x\u001b[38;5;241m.\u001b[39mitems():\n\u001b[1;32m--> 231\u001b[0m     y[deepcopy(key, memo)] \u001b[38;5;241m=\u001b[39m \u001b[43mdeepcopy\u001b[49m\u001b[43m(\u001b[49m\u001b[43mvalue\u001b[49m\u001b[43m,\u001b[49m\u001b[43m \u001b[49m\u001b[43mmemo\u001b[49m\u001b[43m)\u001b[49m\n\u001b[0;32m    232\u001b[0m \u001b[38;5;28;01mreturn\u001b[39;00m y\n",
      "File \u001b[1;32mC:\\Program Files\\WindowsApps\\PythonSoftwareFoundation.Python.3.11_3.11.2288.0_x64__qbz5n2kfra8p0\\Lib\\copy.py:146\u001b[0m, in \u001b[0;36mdeepcopy\u001b[1;34m(x, memo, _nil)\u001b[0m\n\u001b[0;32m    144\u001b[0m copier \u001b[38;5;241m=\u001b[39m _deepcopy_dispatch\u001b[38;5;241m.\u001b[39mget(\u001b[38;5;28mcls\u001b[39m)\n\u001b[0;32m    145\u001b[0m \u001b[38;5;28;01mif\u001b[39;00m copier \u001b[38;5;129;01mis\u001b[39;00m \u001b[38;5;129;01mnot\u001b[39;00m \u001b[38;5;28;01mNone\u001b[39;00m:\n\u001b[1;32m--> 146\u001b[0m     y \u001b[38;5;241m=\u001b[39m \u001b[43mcopier\u001b[49m\u001b[43m(\u001b[49m\u001b[43mx\u001b[49m\u001b[43m,\u001b[49m\u001b[43m \u001b[49m\u001b[43mmemo\u001b[49m\u001b[43m)\u001b[49m\n\u001b[0;32m    147\u001b[0m \u001b[38;5;28;01melse\u001b[39;00m:\n\u001b[0;32m    148\u001b[0m     \u001b[38;5;28;01mif\u001b[39;00m \u001b[38;5;28missubclass\u001b[39m(\u001b[38;5;28mcls\u001b[39m, \u001b[38;5;28mtype\u001b[39m):\n",
      "File \u001b[1;32mC:\\Program Files\\WindowsApps\\PythonSoftwareFoundation.Python.3.11_3.11.2288.0_x64__qbz5n2kfra8p0\\Lib\\copy.py:206\u001b[0m, in \u001b[0;36m_deepcopy_list\u001b[1;34m(x, memo, deepcopy)\u001b[0m\n\u001b[0;32m    204\u001b[0m append \u001b[38;5;241m=\u001b[39m y\u001b[38;5;241m.\u001b[39mappend\n\u001b[0;32m    205\u001b[0m \u001b[38;5;28;01mfor\u001b[39;00m a \u001b[38;5;129;01min\u001b[39;00m x:\n\u001b[1;32m--> 206\u001b[0m     append(\u001b[43mdeepcopy\u001b[49m\u001b[43m(\u001b[49m\u001b[43ma\u001b[49m\u001b[43m,\u001b[49m\u001b[43m \u001b[49m\u001b[43mmemo\u001b[49m\u001b[43m)\u001b[49m)\n\u001b[0;32m    207\u001b[0m \u001b[38;5;28;01mreturn\u001b[39;00m y\n",
      "File \u001b[1;32mC:\\Program Files\\WindowsApps\\PythonSoftwareFoundation.Python.3.11_3.11.2288.0_x64__qbz5n2kfra8p0\\Lib\\copy.py:172\u001b[0m, in \u001b[0;36mdeepcopy\u001b[1;34m(x, memo, _nil)\u001b[0m\n\u001b[0;32m    170\u001b[0m                 y \u001b[38;5;241m=\u001b[39m x\n\u001b[0;32m    171\u001b[0m             \u001b[38;5;28;01melse\u001b[39;00m:\n\u001b[1;32m--> 172\u001b[0m                 y \u001b[38;5;241m=\u001b[39m \u001b[43m_reconstruct\u001b[49m\u001b[43m(\u001b[49m\u001b[43mx\u001b[49m\u001b[43m,\u001b[49m\u001b[43m \u001b[49m\u001b[43mmemo\u001b[49m\u001b[43m,\u001b[49m\u001b[43m \u001b[49m\u001b[38;5;241;43m*\u001b[39;49m\u001b[43mrv\u001b[49m\u001b[43m)\u001b[49m\n\u001b[0;32m    174\u001b[0m \u001b[38;5;66;03m# If is its own copy, don't memoize.\u001b[39;00m\n\u001b[0;32m    175\u001b[0m \u001b[38;5;28;01mif\u001b[39;00m y \u001b[38;5;129;01mis\u001b[39;00m \u001b[38;5;129;01mnot\u001b[39;00m x:\n",
      "File \u001b[1;32mC:\\Program Files\\WindowsApps\\PythonSoftwareFoundation.Python.3.11_3.11.2288.0_x64__qbz5n2kfra8p0\\Lib\\copy.py:271\u001b[0m, in \u001b[0;36m_reconstruct\u001b[1;34m(x, memo, func, args, state, listiter, dictiter, deepcopy)\u001b[0m\n\u001b[0;32m    269\u001b[0m \u001b[38;5;28;01mif\u001b[39;00m state \u001b[38;5;129;01mis\u001b[39;00m \u001b[38;5;129;01mnot\u001b[39;00m \u001b[38;5;28;01mNone\u001b[39;00m:\n\u001b[0;32m    270\u001b[0m     \u001b[38;5;28;01mif\u001b[39;00m deep:\n\u001b[1;32m--> 271\u001b[0m         state \u001b[38;5;241m=\u001b[39m \u001b[43mdeepcopy\u001b[49m\u001b[43m(\u001b[49m\u001b[43mstate\u001b[49m\u001b[43m,\u001b[49m\u001b[43m \u001b[49m\u001b[43mmemo\u001b[49m\u001b[43m)\u001b[49m\n\u001b[0;32m    272\u001b[0m     \u001b[38;5;28;01mif\u001b[39;00m \u001b[38;5;28mhasattr\u001b[39m(y, \u001b[38;5;124m'\u001b[39m\u001b[38;5;124m__setstate__\u001b[39m\u001b[38;5;124m'\u001b[39m):\n\u001b[0;32m    273\u001b[0m         y\u001b[38;5;241m.\u001b[39m__setstate__(state)\n",
      "File \u001b[1;32mC:\\Program Files\\WindowsApps\\PythonSoftwareFoundation.Python.3.11_3.11.2288.0_x64__qbz5n2kfra8p0\\Lib\\copy.py:146\u001b[0m, in \u001b[0;36mdeepcopy\u001b[1;34m(x, memo, _nil)\u001b[0m\n\u001b[0;32m    144\u001b[0m copier \u001b[38;5;241m=\u001b[39m _deepcopy_dispatch\u001b[38;5;241m.\u001b[39mget(\u001b[38;5;28mcls\u001b[39m)\n\u001b[0;32m    145\u001b[0m \u001b[38;5;28;01mif\u001b[39;00m copier \u001b[38;5;129;01mis\u001b[39;00m \u001b[38;5;129;01mnot\u001b[39;00m \u001b[38;5;28;01mNone\u001b[39;00m:\n\u001b[1;32m--> 146\u001b[0m     y \u001b[38;5;241m=\u001b[39m \u001b[43mcopier\u001b[49m\u001b[43m(\u001b[49m\u001b[43mx\u001b[49m\u001b[43m,\u001b[49m\u001b[43m \u001b[49m\u001b[43mmemo\u001b[49m\u001b[43m)\u001b[49m\n\u001b[0;32m    147\u001b[0m \u001b[38;5;28;01melse\u001b[39;00m:\n\u001b[0;32m    148\u001b[0m     \u001b[38;5;28;01mif\u001b[39;00m \u001b[38;5;28missubclass\u001b[39m(\u001b[38;5;28mcls\u001b[39m, \u001b[38;5;28mtype\u001b[39m):\n",
      "File \u001b[1;32mC:\\Program Files\\WindowsApps\\PythonSoftwareFoundation.Python.3.11_3.11.2288.0_x64__qbz5n2kfra8p0\\Lib\\copy.py:231\u001b[0m, in \u001b[0;36m_deepcopy_dict\u001b[1;34m(x, memo, deepcopy)\u001b[0m\n\u001b[0;32m    229\u001b[0m memo[\u001b[38;5;28mid\u001b[39m(x)] \u001b[38;5;241m=\u001b[39m y\n\u001b[0;32m    230\u001b[0m \u001b[38;5;28;01mfor\u001b[39;00m key, value \u001b[38;5;129;01min\u001b[39;00m x\u001b[38;5;241m.\u001b[39mitems():\n\u001b[1;32m--> 231\u001b[0m     y[deepcopy(key, memo)] \u001b[38;5;241m=\u001b[39m \u001b[43mdeepcopy\u001b[49m\u001b[43m(\u001b[49m\u001b[43mvalue\u001b[49m\u001b[43m,\u001b[49m\u001b[43m \u001b[49m\u001b[43mmemo\u001b[49m\u001b[43m)\u001b[49m\n\u001b[0;32m    232\u001b[0m \u001b[38;5;28;01mreturn\u001b[39;00m y\n",
      "File \u001b[1;32mC:\\Program Files\\WindowsApps\\PythonSoftwareFoundation.Python.3.11_3.11.2288.0_x64__qbz5n2kfra8p0\\Lib\\copy.py:146\u001b[0m, in \u001b[0;36mdeepcopy\u001b[1;34m(x, memo, _nil)\u001b[0m\n\u001b[0;32m    144\u001b[0m copier \u001b[38;5;241m=\u001b[39m _deepcopy_dispatch\u001b[38;5;241m.\u001b[39mget(\u001b[38;5;28mcls\u001b[39m)\n\u001b[0;32m    145\u001b[0m \u001b[38;5;28;01mif\u001b[39;00m copier \u001b[38;5;129;01mis\u001b[39;00m \u001b[38;5;129;01mnot\u001b[39;00m \u001b[38;5;28;01mNone\u001b[39;00m:\n\u001b[1;32m--> 146\u001b[0m     y \u001b[38;5;241m=\u001b[39m \u001b[43mcopier\u001b[49m\u001b[43m(\u001b[49m\u001b[43mx\u001b[49m\u001b[43m,\u001b[49m\u001b[43m \u001b[49m\u001b[43mmemo\u001b[49m\u001b[43m)\u001b[49m\n\u001b[0;32m    147\u001b[0m \u001b[38;5;28;01melse\u001b[39;00m:\n\u001b[0;32m    148\u001b[0m     \u001b[38;5;28;01mif\u001b[39;00m \u001b[38;5;28missubclass\u001b[39m(\u001b[38;5;28mcls\u001b[39m, \u001b[38;5;28mtype\u001b[39m):\n",
      "File \u001b[1;32mC:\\Program Files\\WindowsApps\\PythonSoftwareFoundation.Python.3.11_3.11.2288.0_x64__qbz5n2kfra8p0\\Lib\\copy.py:218\u001b[0m, in \u001b[0;36m_deepcopy_tuple\u001b[1;34m(x, memo, deepcopy)\u001b[0m\n\u001b[0;32m    216\u001b[0m \u001b[38;5;28;01mexcept\u001b[39;00m \u001b[38;5;167;01mKeyError\u001b[39;00m:\n\u001b[0;32m    217\u001b[0m     \u001b[38;5;28;01mpass\u001b[39;00m\n\u001b[1;32m--> 218\u001b[0m \u001b[38;5;28;01mfor\u001b[39;00m k, j \u001b[38;5;129;01min\u001b[39;00m \u001b[38;5;28;43mzip\u001b[39;49m\u001b[43m(\u001b[49m\u001b[43mx\u001b[49m\u001b[43m,\u001b[49m\u001b[43m \u001b[49m\u001b[43my\u001b[49m\u001b[43m)\u001b[49m:\n\u001b[0;32m    219\u001b[0m     \u001b[38;5;28;01mif\u001b[39;00m k \u001b[38;5;129;01mis\u001b[39;00m \u001b[38;5;129;01mnot\u001b[39;00m j:\n\u001b[0;32m    220\u001b[0m         y \u001b[38;5;241m=\u001b[39m \u001b[38;5;28mtuple\u001b[39m(y)\n",
      "\u001b[1;31mKeyboardInterrupt\u001b[0m: "
     ]
    }
   ],
   "source": [
    "omega = 1.1\n",
    "root = init_rcbs(env, x, final_goals, region_paths)\n",
    "M = regional_cbs(root, env, omega, verbose = True, maxtime = 240.)"
   ]
  },
  {
   "cell_type": "code",
   "execution_count": 10,
   "metadata": {},
   "outputs": [
    {
     "data": {
      "text/plain": [
       "6552"
      ]
     },
     "execution_count": 10,
     "metadata": {},
     "output_type": "execute_result"
    }
   ],
   "source": [
    "M.cost"
   ]
  },
  {
   "cell_type": "code",
   "execution_count": 11,
   "metadata": {},
   "outputs": [
    {
     "name": "stdout",
     "output_type": "stream",
     "text": [
      "CBS popped from F\n",
      "Current conflict count 88\n",
      "Applying constraint t = 10, p1 = (56, 50), p2 = (56, 49) to 7\n",
      "Applying constraint t = 10, p1 = (56, 49), p2 = (56, 50) to 6\n",
      "CBS popped from F\n",
      "Current conflict count 85\n",
      "Applying constraint t = 13, p = (32, 17) to 11\n",
      "Applying constraint t = 12, p1 = (32, 16), p2 = (32, 17) to 4\n",
      "CBS popped from F\n",
      "Current conflict count 84\n",
      "Applying constraint t = 22, p = (19, 65) to 18\n",
      "Applying constraint t = 21, p1 = (20, 65), p2 = (19, 65) to 2\n",
      "CBS popped from F\n",
      "Current conflict count 82\n",
      "Applying constraint t = 27, p = (8, 56) to 32\n",
      "Applying constraint t = 26, p1 = (8, 55), p2 = (8, 56) to 26\n",
      "CBS popped from F\n",
      "Current conflict count 80\n",
      "Applying constraint t = 13, p = (33, 7) to 43\n",
      "Applying constraint t = 12, p1 = (32, 7), p2 = (33, 7) to 40\n",
      "CBS popped from F\n",
      "Current conflict count 73\n",
      "Applying constraint t = 4, p = (60, 40) to 44\n",
      "Applying constraint t = 3, p1 = (60, 39), p2 = (60, 40) to 3\n",
      "CBS popped from F\n",
      "Current conflict count 71\n",
      "Applying constraint t = 7, p = (31, 43) to 55\n",
      "Applying constraint t = 6, p1 = (31, 44), p2 = (31, 43) to 25\n",
      "CBS popped from F\n",
      "Current conflict count 67\n",
      "Applying constraint t = 15, p = (13, 31) to 56\n",
      "Applying constraint t = 14, p1 = (14, 31), p2 = (13, 31) to 12\n",
      "CBS popped from F\n",
      "Current conflict count 66\n",
      "Applying constraint t = 7, p1 = (31, 42), p2 = (31, 43) to 57\n",
      "Applying constraint t = 7, p1 = (31, 43), p2 = (31, 42) to 25\n",
      "CBS popped from F\n",
      "Current conflict count 64\n",
      "Applying constraint t = 3, p = (19, 55) to 58\n",
      "Applying constraint t = 2, p1 = (20, 55), p2 = (19, 55) to 41\n",
      "CBS popped from F\n",
      "Current conflict count 61\n",
      "Applying constraint t = 18, p = (62, 47) to 59\n",
      "Applying constraint t = 17, p1 = (62, 46), p2 = (62, 47) to 15\n",
      "CBS popped from F\n",
      "Current conflict count 58\n",
      "Applying constraint t = 2, p1 = (25, 11), p2 = (25, 10) to 60\n",
      "Applying constraint t = 2, p1 = (25, 10), p2 = (25, 11) to 37\n",
      "CBS popped from F\n",
      "Current conflict count 56\n",
      "Applying constraint t = 0, p1 = (39, 11), p2 = (39, 10) to 65\n",
      "Applying constraint t = 0, p1 = (39, 10), p2 = (39, 11) to 63\n",
      "CBS popped from F\n",
      "Current conflict count 52\n",
      "Applying constraint t = 7, p = (34, 9) to 65\n",
      "Applying constraint t = 6, p1 = (34, 8), p2 = (34, 9) to 10\n",
      "CBS popped from F\n",
      "Current conflict count 51\n",
      "Applying constraint t = 4, p = (32, 66) to 66\n",
      "Applying constraint t = 3, p1 = (33, 66), p2 = (32, 66) to 48\n",
      "CBS popped from F\n",
      "Current conflict count 50\n",
      "Applying constraint t = 11, p = (29, 15) to 67\n",
      "Applying constraint t = 10, p1 = (28, 15), p2 = (29, 15) to 37\n",
      "CBS popped from F\n",
      "Current conflict count 49\n",
      "Applying constraint t = 40, p = (38, 42) to 68\n",
      "Applying constraint t = 39, p1 = (39, 42), p2 = (38, 42) to 49\n",
      "CBS popped from F\n",
      "Current conflict count 47\n",
      "Applying constraint t = 26, p = (30, 33) to 70\n",
      "Applying constraint t = 25, p1 = (30, 32), p2 = (30, 33) to 1\n",
      "CBS popped from F\n",
      "Current conflict count 37\n",
      "Applying constraint t = 9, p = (44, 48) to 73\n",
      "Applying constraint t = 8, p1 = (45, 48), p2 = (44, 48) to 21\n",
      "CBS popped from F\n",
      "Current conflict count 32\n",
      "Applying constraint t = 12, p1 = (34, 38), p2 = (33, 38) to 80\n",
      "Applying constraint t = 12, p1 = (33, 38), p2 = (34, 38) to 24\n",
      "CBS popped from F\n",
      "Current conflict count 28\n",
      "Applying constraint t = 28, p = (49, 57) to 84\n",
      "Applying constraint t = 27, p1 = (50, 57), p2 = (49, 57) to 72\n",
      "CBS popped from F\n",
      "Current conflict count 27\n",
      "Applying constraint t = 1, p = (29, 25) to 86\n",
      "Applying constraint t = 0, p1 = (28, 25), p2 = (29, 25) to 31\n",
      "CBS popped from F\n",
      "Current conflict count 22\n",
      "Applying constraint t = 44, p = (25, 40) to 87\n",
      "Applying constraint t = 43, p1 = (24, 40), p2 = (25, 40) to 20\n",
      "CBS popped from F\n",
      "Current conflict count 20\n",
      "Applying constraint t = 6, p = (71, 71) to 89\n",
      "Applying constraint t = 5, p1 = (71, 72), p2 = (71, 71) to 0\n",
      "CBS popped from F\n",
      "Current conflict count 13\n",
      "Applying constraint t = 4, p = (22, 38) to 93\n",
      "Applying constraint t = 3, p1 = (22, 37), p2 = (22, 38) to 39\n",
      "CBS popped from F\n",
      "Current conflict count 11\n",
      "Applying constraint t = 31, p = (44, 33) to 93\n",
      "Applying constraint t = 30, p1 = (45, 33), p2 = (44, 33) to 47\n",
      "CBS popped from F\n",
      "Current conflict count 10\n",
      "Applying constraint t = 30, p = (30, 39) to 96\n",
      "Applying constraint t = 29, p1 = (31, 39), p2 = (30, 39) to 77\n",
      "CBS popped from F\n",
      "Current conflict count 8\n",
      "Applying constraint t = 0, p1 = (24, 10), p2 = (24, 11) to 104\n",
      "Applying constraint t = 0, p1 = (24, 11), p2 = (24, 10) to 40\n",
      "CBS popped from F\n",
      "Current conflict count 7\n",
      "Applying constraint t = 38, p1 = (40, 9), p2 = (39, 9) to 108\n",
      "Applying constraint t = 38, p1 = (39, 9), p2 = (40, 9) to 38\n",
      "CBS popped from F\n",
      "Current conflict count 6\n",
      "Applying constraint t = 23, p = (9, 51) to 109\n",
      "Applying constraint t = 22, p1 = (9, 52), p2 = (9, 51) to 85\n",
      "CBS popped from F\n",
      "Current conflict count 4\n",
      "Applying constraint t = 59, p = (49, 46) to 110\n",
      "Applying constraint t = 58, p1 = (49, 45), p2 = (49, 46) to 62\n",
      "CBS popped from F\n",
      "Current conflict count 3\n",
      "Applying constraint t = 14, p1 = (8, 33), p2 = (8, 32) to 114\n",
      "Applying constraint t = 14, p1 = (8, 32), p2 = (8, 33) to 76\n",
      "CBS popped from F\n",
      "Current conflict count 1\n",
      "Applying constraint t = 10, p = (8, 39) to 118\n",
      "Applying constraint t = 9, p1 = (8, 38), p2 = (8, 39) to 26\n",
      "CBS popped from F\n",
      "CBS solution found\n"
     ]
    }
   ],
   "source": [
    "goals = {id: LocationGoal(final_goals[id]) for id in x}\n",
    "root = CBSNode(x, goals)\n",
    "action_gen = GridWorldActionGenerator(env.gridworld)\n",
    "N, lb = conflict_based_search(root, action_gen.actions, omega, verbose=True, maxtime=600)"
   ]
  },
  {
   "cell_type": "code",
   "execution_count": 13,
   "metadata": {},
   "outputs": [
    {
     "name": "stdout",
     "output_type": "stream",
     "text": [
      "149\n"
     ]
    },
    {
     "name": "stderr",
     "output_type": "stream",
     "text": [
      "MovieWriter ffmpeg unavailable; using Pillow instead.\n"
     ]
    },
    {
     "data": {
      "image/png": "[encoded data removed]",
      "text/plain": [
       "<Figure size 800x800 with 1 Axes>"
      ]
     },
     "metadata": {},
     "output_type": "display_data"
    }
   ],
   "source": [
    "solution = M.make_solution()\n",
    "MAPFAnimation(env, solution).animate().save('foo.gif')"
   ]
  }
 ],
 "metadata": {
  "language_info": {
   "name": "python"
  }
 },
 "nbformat": 4,
 "nbformat_minor": 2
}
