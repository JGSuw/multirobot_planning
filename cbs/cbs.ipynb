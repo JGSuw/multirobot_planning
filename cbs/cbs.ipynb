{
 "cells": [
  {
   "cell_type": "code",
   "execution_count": null,
   "metadata": {},
   "outputs": [],
   "source": [
    "import cbs\n",
    "import numpy as np\n",
    "import heapq\n",
    "from matplotlib import pyplot as plt\n",
    "env, goals = cbs.random_problem((12,12), 12, 20, seed=1941) #original example\n",
    "fig,ax = plt.subplots()\n",
    "cbs.draw_environment(ax, env, goals)\n"
   ]
  },
  {
   "cell_type": "code",
   "execution_count": null,
   "metadata": {},
   "outputs": [],
   "source": [
    "prob = cbs.MAPFProblem(env, goals)\n",
    "cbs_solution = cbs.conflict_based_search(prob)"
   ]
  },
  {
   "cell_type": "code",
   "execution_count": null,
   "metadata": {},
   "outputs": [],
   "source": [
    "ma_cbs_solution = cbs.ma_cbs(prob)"
   ]
  },
  {
   "cell_type": "code",
   "execution_count": null,
   "metadata": {},
   "outputs": [],
   "source": [
    "cbs_cost = 0\n",
    "ma_cbs_cost = 0\n",
    "for path in cbs_solution.paths:\n",
    "    cbs_cost += len(path)\n",
    "for path in ma_cbs_solution.paths:\n",
    "    ma_cbs_cost += len(path)\n",
    "print(cbs_cost)\n",
    "print(ma_cbs_cost)"
   ]
  },
  {
   "cell_type": "code",
   "execution_count": null,
   "metadata": {},
   "outputs": [],
   "source": [
    "from matplotlib import pyplot as plt\n",
    "animation = cbs.MAPFAnimation(prob, cbs_solution)\n",
    "ani = animation.animate()\n",
    "ani.save(\"cbs_solution.gif\")\n",
    "animation = cbs.MAPFAnimation(prob, ma_cbs_solution)\n",
    "ani = animation.animate()\n",
    "ani.save(\"ma_cbs_solution.gif\")"
   ]
  }
 ],
 "metadata": {
  "kernelspec": {
   "display_name": "cbs",
   "language": "python",
   "name": "python3"
  },
  "language_info": {
   "codemirror_mode": {
    "name": "ipython",
    "version": 3
   },
   "file_extension": ".py",
   "mimetype": "text/x-python",
   "name": "python",
   "nbconvert_exporter": "python",
   "pygments_lexer": "ipython3",
   "version": "3.11.7"
  }
 },
 "nbformat": 4,
 "nbformat_minor": 2
}
