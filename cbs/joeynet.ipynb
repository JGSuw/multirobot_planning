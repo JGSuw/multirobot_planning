{
 "cells": [
  {
   "cell_type": "code",
   "execution_count": 6,
   "metadata": {},
   "outputs": [],
   "source": [
    "import cbs\n",
    "import torch\n",
    "import torch.nn as nn\n",
    "import torch.nn.functional as F\n",
    "import ctraining_data\n",
    "\n",
    "# basic RESNET convolution block\n",
    "class SimpleResidualConv2D(nn.Module):\n",
    "    def __init__(self, channels: int, H: int, W: int, kernel_size: int):\n",
    "        super().__init__()\n",
    "        pad = int((kernel_size-1)//2)\n",
    "        self.conv1 = nn.LazyConv2d(channels, kernel_size, padding=pad, groups=1)\n",
    "        self.bn1 = nn.LazyBatchNorm2d()\n",
    "        self.conv2 = nn.LazyConv2d(channels, kernel_size, padding=pad, groups=1)\n",
    "        self.bn2 = nn.LazyBatchNorm2d()\n",
    "    \n",
    "    def forward(self, X):\n",
    "        Y = F.relu(self.bn1(self.conv1(X)))\n",
    "        Y = self.bn2(self.conv2(Y))\n",
    "        Y += X\n",
    "        return F.relu(Y)\n",
    "    \n",
    "class JoeyBlock(nn.Module):\n",
    "    def __init__(self, channels_in, \n",
    "                 channels_out, \n",
    "                 Hin, Win, \n",
    "                 ckernel_size, \n",
    "                 pkernel_size,\n",
    "                 ppadding,\n",
    "                 pstride):\n",
    "        super().__init__()\n",
    "        self.channels_in = channels_in\n",
    "        self.channels_out = channels_out\n",
    "        self.Hout = int((Hin+2*ppadding-pkernel_size-2)/pstride + 1)\n",
    "        self.Wout = int((Win+2*ppadding-pkernel_size-2)/pstride + 1)\n",
    "        self.res = SimpleResidualConv2D(channels_in, Hin, Win, ckernel_size)\n",
    "        self.conv1x1 = nn.Conv2d(channels_in, channels_out, 1)\n",
    "        self.pool = nn.MaxPool2d(pkernel_size, stride=pstride, padding=ppadding)\n",
    "    \n",
    "    def forward(self, X):\n",
    "        return self.pool(self.conv1x1(self.res(X)))\n",
    "    \n",
    "class JoeyNet(nn.Module):\n",
    "    def __init__(self, channels_in, Hin, Win, features_out, num_blocks, pkernel_size):\n",
    "        super().__init__()\n",
    "        if (Hin - num_blocks*(pkernel_size - 2)) <= 0:\n",
    "            raise ValueError(\"(Hin - num_blocks*(pkernel_size - 2)) <= 0\")\n",
    "        if (Win - num_blocks*(pkernel_size - 2)) <= 0:\n",
    "            raise ValueError(\"(Win - num_blocks*(pkernel_size - 2)) <= 0\")\n",
    "        H = [Hin - i*(pkernel_size-1) for i in range(num_blocks+1)]\n",
    "        print(H)\n",
    "        W = [Win - i*(pkernel_size-1) for i in range(num_blocks+1)]\n",
    "        print(W)\n",
    "        self.blocks = [] \n",
    "        for i in range(num_blocks):\n",
    "            self.blocks.append(\n",
    "                JoeyBlock(channels_in, channels_in, H[i], W[i], 3, pkernel_size, 0, 1)\n",
    "            )\n",
    "        self.fc = []\n",
    "        for i in range(1,4):\n",
    "            self.fc.append(\n",
    "                nn.LazyLinear(int(channels_in - i * (channels_in - features_out)//3))\n",
    "            )\n",
    "    \n",
    "    def forward(self, X):\n",
    "        Y = X\n",
    "        for i in range(len(self.blocks)):\n",
    "            Y = self.blocks[i](Y)\n",
    "        Y = torch.flatten(Y)\n",
    "        for i in range(len(self.fc)-1):\n",
    "            Y = F.relu(self.fc[i](Y))\n",
    "        return self.fc[len(self.fc)-1](Y)\n",
    "        "
   ]
  },
  {
   "cell_type": "code",
   "execution_count": 8,
   "metadata": {},
   "outputs": [
    {
     "name": "stdout",
     "output_type": "stream",
     "text": [
      "[12, 10, 8, 6, 4, 2]\n",
      "[12, 10, 8, 6, 4, 2]\n"
     ]
    },
    {
     "name": "stderr",
     "output_type": "stream",
     "text": [
      "/home/joseph/workspaces/amazon_hub/multirobot_planning/cbs/lib/python3.11/site-packages/torch/nn/modules/lazy.py:180: UserWarning: Lazy modules are a new feature under heavy development so changes to the API or functionality can happen at any moment.\n",
      "  warnings.warn('Lazy modules are a new feature under heavy development '\n"
     ]
    },
    {
     "data": {
      "text/plain": [
       "tensor([ 0.1129, -0.1937,  0.1256, -0.1859,  0.1628, -0.3325,  0.2598,  0.2407,\n",
       "        -0.1520,  0.0782, -0.0084,  0.2027, -0.2863,  0.2861,  0.0365],\n",
       "       grad_fn=<ViewBackward0>)"
      ]
     },
     "execution_count": 8,
     "metadata": {},
     "output_type": "execute_result"
    }
   ],
   "source": [
    "foo = JoeyNet(31, 12, 12, 15, 5, 3)\n",
    "zeros = torch.zeros((1,31,12,12))\n",
    "bar = foo(zeros)\n",
    "bar.size()\n",
    "bar"
   ]
  }
 ],
 "metadata": {
  "kernelspec": {
   "display_name": "cbs",
   "language": "python",
   "name": "python3"
  },
  "language_info": {
   "codemirror_mode": {
    "name": "ipython",
    "version": 3
   },
   "file_extension": ".py",
   "mimetype": "text/x-python",
   "name": "python",
   "nbconvert_exporter": "python",
   "pygments_lexer": "ipython3",
   "version": "3.11.7"
  }
 },
 "nbformat": 4,
 "nbformat_minor": 2
}
